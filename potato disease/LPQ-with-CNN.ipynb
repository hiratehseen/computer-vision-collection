{
 "cells": [
  {
   "cell_type": "code",
   "execution_count": 1,
   "metadata": {},
   "outputs": [],
   "source": [
    "from matplotlib.pyplot import imshow\n",
    "import matplotlib.cm as cm\n",
    "import matplotlib.pylab as plt\n",
    "from keras.preprocessing.image import ImageDataGenerator\n",
    "import numpy as np\n",
    "import PIL\n",
    "from PIL import ImageFilter\n",
    "import cv2\n",
    "import itertools\n",
    "import random\n",
    "import keras\n",
    "from keras import utils as np_utils\n",
    "import tensorflow as tf\n",
    "import imutils\n",
    "from imutils import paths\n",
    "import os\n",
    "from keras import optimizers\n",
    "from keras.preprocessing.image import img_to_array\n",
    "from sklearn.model_selection import train_test_split\n",
    "from tensorflow.keras.utils import to_categorical\n",
    "from keras import callbacks\n",
    "from keras.models import Sequential\n",
    "from tensorflow.keras.layers import BatchNormalization\n",
    "from keras.layers import Dense, Dropout, Flatten\n",
    "from keras.layers import Conv2D, MaxPooling2D , UpSampling2D ,Conv2DTranspose, Conv1D, MaxPooling1D, UpSampling1D\n",
    "from keras import backend as K\n",
    "import pandas as pd\n",
    "# %matplotlib inline"
   ]
  },
  {
   "cell_type": "code",
   "execution_count": 2,
   "metadata": {},
   "outputs": [],
   "source": [
    "def pil_image(img_path):\n",
    "    pil_im =PIL.Image.open(img_path).convert('L')\n",
    "    pil_im=pil_im.resize((105,105))\n",
    "    #imshow(np.asarray(pil_im))\n",
    "    \n",
    "    return pil_im"
   ]
  },
  {
   "cell_type": "markdown",
   "metadata": {},
   "source": [
    "# Augumentation Steps\n",
    "1) Noise 2) Blur 3) Perpective Rotation 4) Shading 5) Variable Character Spacing 6) Variable Aspect Ratio"
   ]
  },
  {
   "cell_type": "code",
   "execution_count": 3,
   "metadata": {},
   "outputs": [],
   "source": [
    "def noise_image(pil_im):\n",
    "    # Adding Noise to image\n",
    "    img_array = np.asarray(pil_im)\n",
    "    mean = 0.0   # some constant\n",
    "    std = 5   # some constant (standard deviation)\n",
    "    noisy_img = img_array + np.random.normal(mean, std, img_array.shape)\n",
    "    noisy_img_clipped = np.clip(noisy_img, 0, 255)\n",
    "    noise_img = PIL.Image.fromarray(np.uint8(noisy_img_clipped)) # output\n",
    "    #imshow((noisy_img_clipped ).astype(np.uint8))\n",
    "    noise_img=noise_img.resize((105,105))\n",
    "    return noise_img\n"
   ]
  },
  {
   "cell_type": "code",
   "execution_count": 4,
   "metadata": {},
   "outputs": [],
   "source": [
    "def blur_image(pil_im):\n",
    "    #Adding Blur to image \n",
    "    blur_img = pil_im.filter(ImageFilter.GaussianBlur(radius=3)) # ouput\n",
    "    #imshow(blur_img)\n",
    "    blur_img=blur_img.resize((105,105))\n",
    "    return blur_img"
   ]
  },
  {
   "cell_type": "code",
   "execution_count": 5,
   "metadata": {},
   "outputs": [],
   "source": [
    "def affine_rotation(img):\n",
    "    \n",
    "    #img=cv2.imread(img_path,0)\n",
    "    rows, columns = img.shape\n",
    "\n",
    "    point1 = np.float32([[10, 10], [30, 10], [10, 30]])\n",
    "    point2 = np.float32([[20, 15], [40, 10], [20, 40]])\n",
    "\n",
    "    A = cv2.getAffineTransform(point1, point2)\n",
    "\n",
    "    output = cv2.warpAffine(img, A, (columns, rows))\n",
    "    affine_img = PIL.Image.fromarray(np.uint8(output)) # affine rotated output\n",
    "    #imshow(output)\n",
    "    affine_img=affine_img.resize((105,105))\n",
    "    return affine_img"
   ]
  },
  {
   "cell_type": "code",
   "execution_count": 6,
   "metadata": {},
   "outputs": [],
   "source": [
    "def gradient_fill(image):\n",
    "    #image=cv2.imread(img_path,0)\n",
    "    laplacian = cv2.Laplacian(image,cv2.CV_64F)\n",
    "    laplacian = cv2.resize(laplacian, (105, 105))\n",
    "    return laplacian"
   ]
  },
  {
   "cell_type": "markdown",
   "metadata": {},
   "source": [
    "# Preparing Dataset"
   ]
  },
  {
   "cell_type": "code",
   "execution_count": 7,
   "metadata": {},
   "outputs": [],
   "source": [
    "data_path = \"Train\"\n",
    "data=[]\n",
    "labels=[]\n",
    "imagePaths = sorted(list(paths.list_images(data_path)))\n",
    "random.seed(42)\n",
    "random.shuffle(imagePaths)"
   ]
  },
  {
   "cell_type": "code",
   "execution_count": 8,
   "metadata": {},
   "outputs": [],
   "source": [
    "def conv_label(label):\n",
    "    if label == 'Potato___Early_blight':\n",
    "        return 0\n",
    "    elif label == 'Potato___healthy':\n",
    "        return 1\n",
    "    elif label == 'Potato___Late_blight':\n",
    "        return 2"
   ]
  },
  {
   "cell_type": "code",
   "execution_count": 9,
   "metadata": {},
   "outputs": [
    {
     "name": "stdout",
     "output_type": "stream",
     "text": [
      "['blur', 'noise', 'affine', 'gradient']\n",
      "900\n"
     ]
    }
   ],
   "source": [
    "augument=[\"blur\",\"noise\",\"affine\",\"gradient\"]\n",
    "a=itertools.combinations(augument, 4)\n",
    "\n",
    "for i in list(a): \n",
    "    print(list(i))\n",
    "\n",
    "print(len(imagePaths))"
   ]
  },
  {
   "cell_type": "code",
   "execution_count": 10,
   "metadata": {},
   "outputs": [
    {
     "data": {
      "text/plain": [
       "'Potato___Early_blight'"
      ]
     },
     "execution_count": 10,
     "metadata": {},
     "output_type": "execute_result"
    }
   ],
   "source": [
    "imagePaths[0].split(os.path.sep)[-2]"
   ]
  },
  {
   "cell_type": "code",
   "execution_count": 11,
   "metadata": {},
   "outputs": [
    {
     "name": "stdout",
     "output_type": "stream",
     "text": [
      "14400\n"
     ]
    }
   ],
   "source": [
    "counter=0\n",
    "for imagePath in imagePaths:\n",
    "    label = imagePath.split(os.path.sep)[-2]\n",
    "    label = conv_label(label)\n",
    "    #print(label)\n",
    "    pil_img = pil_image(imagePath)\n",
    "    #imshow(pil_img)\n",
    "    \n",
    "    # Adding original image\n",
    "    org_img = img_to_array(pil_img)\n",
    "    #print(org_img.shape)\n",
    "    data.append(org_img)\n",
    "    labels.append(label)\n",
    "    \n",
    "    augument=[\"noise\",\"blur\",\"affine\",\"gradient\"]\n",
    "    for l in range(0,len(augument)):\n",
    "    \n",
    "        a=itertools.combinations(augument, l+1)\n",
    "\n",
    "        for i in list(a): \n",
    "            combinations=list(i)\n",
    "            #print(len(combinations))\n",
    "            temp_img = pil_img\n",
    "            for j in combinations:\n",
    "            \n",
    "                if j == 'noise':\n",
    "                    # Adding Noise image\n",
    "                    temp_img = noise_image(temp_img)\n",
    "                    \n",
    "                elif j == 'blur':\n",
    "                    # Adding Blur image\n",
    "                    temp_img = blur_image(temp_img)\n",
    "                    #imshow(blur_img)\n",
    "                    \n",
    "    \n",
    "                elif j == 'affine':\n",
    "                    open_cv_affine = np.array(pil_img)\n",
    "                    # Adding affine rotation image\n",
    "                    temp_img = affine_rotation(open_cv_affine)\n",
    "\n",
    "                elif j == 'gradient':\n",
    "                    open_cv_gradient = np.array(pil_img)\n",
    "                    # Adding gradient image\n",
    "                    temp_img = gradient_fill(open_cv_gradient)\n",
    "  \n",
    "            temp_img = img_to_array(temp_img)\n",
    "            data.append(temp_img)\n",
    "            labels.append(label)\n",
    "\n",
    "print(len(data))"
   ]
  },
  {
   "cell_type": "code",
   "execution_count": 12,
   "metadata": {},
   "outputs": [
    {
     "name": "stdout",
     "output_type": "stream",
     "text": [
      "Success\n"
     ]
    }
   ],
   "source": [
    "data = np.asarray(data, dtype=\"int\") / 255.0\n",
    "labels = np.array(labels)\n",
    "print(\"Success\")"
   ]
  },
  {
   "cell_type": "code",
   "execution_count": 13,
   "metadata": {},
   "outputs": [
    {
     "data": {
      "text/plain": [
       "array([0, 0, 0, ..., 1, 1, 1])"
      ]
     },
     "execution_count": 13,
     "metadata": {},
     "output_type": "execute_result"
    }
   ],
   "source": [
    "labels"
   ]
  },
  {
   "cell_type": "code",
   "execution_count": 14,
   "metadata": {},
   "outputs": [],
   "source": [
    "#train_test_split(data,labels, test_size=float(\"0.25\"), random_state=int(\"42\"))"
   ]
  },
  {
   "cell_type": "code",
   "execution_count": 15,
   "metadata": {},
   "outputs": [
    {
     "name": "stdout",
     "output_type": "stream",
     "text": [
      "[[0. 1. 0. ... 0. 0. 0.]\n",
      " [1. 0. 0. ... 0. 0. 0.]\n",
      " [1. 0. 0. ... 0. 0. 0.]\n",
      " ...\n",
      " [0. 0. 1. ... 0. 0. 0.]\n",
      " [0. 0. 1. ... 0. 0. 0.]\n",
      " [0. 0. 1. ... 0. 0. 0.]]\n",
      "[[1. 0. 0. ... 0. 0. 0.]\n",
      " [0. 0. 1. ... 0. 0. 0.]\n",
      " [0. 1. 0. ... 0. 0. 0.]\n",
      " ...\n",
      " [1. 0. 0. ... 0. 0. 0.]\n",
      " [0. 0. 1. ... 0. 0. 0.]\n",
      " [0. 0. 1. ... 0. 0. 0.]]\n"
     ]
    }
   ],
   "source": [
    "# partition the data into training and testing splits using 75% of\n",
    "# the data for training and the remaining 25% for testing\n",
    "(trainX, testX, trainY, testY) =  train_test_split(data,labels, test_size=0.2, random_state=42)\n",
    "# convert the labels from integers to vectors\n",
    "try:\n",
    "    trainY = to_categorical(trainY, num_classes=7) ## input of to_categorial is class vector of integers\n",
    "    print(trainY)\n",
    "except Exception as ex:\n",
    "    trainY = None\n",
    "    print(ex)\n",
    "try:\n",
    "    testY = to_categorical(testY, num_classes=7)\n",
    "    print(testY)\n",
    "except Exception as ex:\n",
    "    testY = None\n",
    "    print(ex)"
   ]
  },
  {
   "cell_type": "code",
   "execution_count": 16,
   "metadata": {},
   "outputs": [
    {
     "data": {
      "text/plain": [
       "((11520, 105, 105, 1), (2880, 105, 105, 1), (11520, 7), (2880, 7))"
      ]
     },
     "execution_count": 16,
     "metadata": {},
     "output_type": "execute_result"
    }
   ],
   "source": [
    "trainX.shape, testX.shape, trainY.shape, testY.shape"
   ]
  },
  {
   "cell_type": "code",
   "execution_count": 17,
   "metadata": {},
   "outputs": [],
   "source": [
    "aug = ImageDataGenerator(rotation_range=30, width_shift_range=0.1,height_shift_range=0.1, shear_range=0.2, zoom_range=0.2,horizontal_flip=True)"
   ]
  },
  {
   "cell_type": "code",
   "execution_count": 18,
   "metadata": {
    "scrolled": true
   },
   "outputs": [
    {
     "data": {
      "text/plain": [
       "'channels_last'"
      ]
     },
     "execution_count": 18,
     "metadata": {},
     "output_type": "execute_result"
    }
   ],
   "source": [
    "K.image_data_format()"
   ]
  },
  {
   "cell_type": "code",
   "execution_count": 19,
   "metadata": {},
   "outputs": [],
   "source": [
    "def conv_label(label):\n",
    "    if label == 'Potato___Early_blight':\n",
    "        return 0\n",
    "    elif label == 'Potato___healthy':\n",
    "        return 1\n",
    "    elif label == 'Potato___Late_blight':\n",
    "        return 2"
   ]
  },
  {
   "cell_type": "markdown",
   "metadata": {},
   "source": [
    "# LPQ Feature calculation"
   ]
  },
  {
   "cell_type": "code",
   "execution_count": 20,
   "metadata": {},
   "outputs": [],
   "source": [
    "# coding: utf-8\n",
    "import numpy as np\n",
    "from scipy.signal import convolve2d\n",
    "\n",
    "class LPQ(object):\n",
    "    \"\"\" This implementation of Local Phase Quantization (LPQ) is a \n",
    "      \n",
    "      Reference: \n",
    "        Ojansivu V & Heikkilä J (2008) Blur insensitive texture classification \n",
    "        using local phase quantization. Proc. Image and Signal Processing \n",
    "\t(ICISP 2008), Cherbourg-Octeville, France, 5099:236-243.\n",
    "        Copyright 2008 by Heikkilä & Ojansivu\n",
    "    \"\"\"\n",
    "\n",
    "    def __init__(self, radius=3):\n",
    "        self.radius = radius\n",
    "\n",
    "    def euc_dist(self, X):\n",
    "        Y = X = X.astype(np.float)\n",
    "        XX = np.sum(X * X, axis=1)[:, np.newaxis]\n",
    "        YY = XX.T\n",
    "        distances = np.dot(X,Y.T)\n",
    "        distances *= -2\n",
    "        distances += XX\n",
    "        distances += YY\n",
    "        np.maximum(distances, 0, distances)\n",
    "        distances.flat[::distances.shape[0] + 1] = 0.0\n",
    "        return np.sqrt(distances)\n",
    "\n",
    "    def __call__(self,X):\n",
    "        f = 1.0\n",
    "        x = np.arange(-self.radius,self.radius+1)\n",
    "        n = len(x)\n",
    "        rho = 0.95\n",
    "        [xp, yp] = np.meshgrid(np.arange(1,(n+1)),np.arange(1,(n+1)))\n",
    "        pp = np.concatenate((xp,yp)).reshape(2,-1)\n",
    "        dd = self.euc_dist(pp.T) # squareform(pdist(...)) would do the job, too...\n",
    "        C = np.power(rho,dd)\n",
    "\n",
    "        w0 = (x*0.0+1.0)\n",
    "        w1 = np.exp(-2*np.pi*1j*x*f/n)\n",
    "        w2 = np.conj(w1)\n",
    "\n",
    "        q1 = w0.reshape(-1,1)*w1\n",
    "        q2 = w1.reshape(-1,1)*w0\n",
    "        q3 = w1.reshape(-1,1)*w1\n",
    "        q4 = w1.reshape(-1,1)*w2\n",
    "\n",
    "        u1 = np.real(q1)\n",
    "        u2 = np.imag(q1)\n",
    "        u3 = np.real(q2)\n",
    "        u4 = np.imag(q2)\n",
    "        u5 = np.real(q3)\n",
    "        u6 = np.imag(q3)\n",
    "        u7 = np.real(q4)\n",
    "        u8 = np.imag(q4)\n",
    "\n",
    "        M = np.matrix([u1.flatten(), u2.flatten(), u3.flatten(), u4.flatten(), u5.flatten(), u6.flatten(), u7.flatten(), u8.flatten()])\n",
    "\n",
    "        D = np.dot(np.dot(M,C), M.T)\n",
    "        U,S,V = np.linalg.svd(D)\n",
    "\n",
    "        Qa = convolve2d(convolve2d(X,w0.reshape(-1,1),mode='same'),w1.reshape(1,-1),mode='same')\n",
    "        Qb = convolve2d(convolve2d(X,w1.reshape(-1,1),mode='same'),w0.reshape(1,-1),mode='same')\n",
    "        Qc = convolve2d(convolve2d(X,w1.reshape(-1,1),mode='same'),w1.reshape(1,-1),mode='same')\n",
    "        Qd = convolve2d(convolve2d(X, w1.reshape(-1,1),mode='same'),w2.reshape(1,-1),mode='same')\n",
    "\n",
    "        Fa = np.real(Qa)\n",
    "        Ga = np.imag(Qa)\n",
    "        Fb = np.real(Qb) \n",
    "        Gb = np.imag(Qb)\n",
    "        Fc = np.real(Qc) \n",
    "        Gc = np.imag(Qc)\n",
    "        Fd = np.real(Qd) \n",
    "        Gd = np.imag(Qd)\n",
    "\n",
    "        F = np.array([Fa.flatten(), Ga.flatten(), Fb.flatten(), Gb.flatten(), Fc.flatten(), Gc.flatten(), Fd.flatten(), Gd.flatten()])\n",
    "        G = np.dot(V.T, F)\n",
    "\n",
    "        t = 0\n",
    "\n",
    "        # Calculate the LPQ Patterns:\n",
    "        B = (G[0,:]>=t)*1 + (G[1,:]>=t)*2 + (G[2,:]>=t)*4 + (G[3,:]>=t)*8 + (G[4,:]>=t)*16 + (G[5,:]>=t)*32 + (G[6,:]>=t)*64 + (G[7,:]>=t)*128\n",
    "        B = np.reshape(B, np.shape(Fa))\n",
    "\n",
    "        # And finally build the histogram:\n",
    "        h, b  = np.histogram(B, bins=256, range = (0,255))\n",
    "\n",
    "        return h\n",
    "\n",
    "    def __repr__(self):\n",
    "        return \"LPQ (radius=%s)\" % (self.radius)\n",
    "\n",
    "#len(trainX)\n",
    "#\n",
    "#trainX.shape\n",
    "\n",
    "lpq = LPQ(3)\n",
    "\n",
    "#lpq"
   ]
  },
  {
   "cell_type": "markdown",
   "metadata": {},
   "source": [
    "# calculate training LPQ features"
   ]
  },
  {
   "cell_type": "code",
   "execution_count": 21,
   "metadata": {},
   "outputs": [
    {
     "name": "stderr",
     "output_type": "stream",
     "text": [
      "C:\\Users\\Hira\\AppData\\Local\\Temp/ipykernel_4796/1640420042.py:19: DeprecationWarning: `np.float` is a deprecated alias for the builtin `float`. To silence this warning, use `float` by itself. Doing this will not modify any behavior and is safe. If you specifically wanted the numpy scalar type, use `np.float64` here.\n",
      "Deprecated in NumPy 1.20; for more details and guidance: https://numpy.org/devdocs/release/1.20.0-notes.html#deprecations\n",
      "  Y = X = X.astype(np.float)\n"
     ]
    },
    {
     "name": "stdout",
     "output_type": "stream",
     "text": [
      "11520\n",
      "(11520, 256)\n"
     ]
    }
   ],
   "source": [
    "dim = (trainX.shape[1],trainX.shape[1])\n",
    "\n",
    "train_feat =[]\n",
    "\n",
    "for i in range(len(trainX)):\n",
    "    X = trainX[i]\n",
    "    X = X.reshape(dim)\n",
    "    lpq_feat = lpq(X)\n",
    "    train_feat.append(lpq_feat)\n",
    "\n",
    "print(len(train_feat))\n",
    "\n",
    "#train_feat[0]\n",
    "\n",
    "train_feat = np.array(train_feat)\n",
    "\n",
    "print(train_feat.shape)\n"
   ]
  },
  {
   "cell_type": "markdown",
   "metadata": {},
   "source": [
    "# calculate testing LPQ features"
   ]
  },
  {
   "cell_type": "code",
   "execution_count": 22,
   "metadata": {},
   "outputs": [
    {
     "name": "stderr",
     "output_type": "stream",
     "text": [
      "C:\\Users\\Hira\\AppData\\Local\\Temp/ipykernel_4796/1640420042.py:19: DeprecationWarning: `np.float` is a deprecated alias for the builtin `float`. To silence this warning, use `float` by itself. Doing this will not modify any behavior and is safe. If you specifically wanted the numpy scalar type, use `np.float64` here.\n",
      "Deprecated in NumPy 1.20; for more details and guidance: https://numpy.org/devdocs/release/1.20.0-notes.html#deprecations\n",
      "  Y = X = X.astype(np.float)\n"
     ]
    },
    {
     "name": "stdout",
     "output_type": "stream",
     "text": [
      "(2880, 256)\n",
      "11520\n",
      "2880\n"
     ]
    }
   ],
   "source": [
    "dim = (testX.shape[1],testX.shape[1])\n",
    "#dim\n",
    "\n",
    "test_feat =[]\n",
    "\n",
    "for i in range(len(testX)):\n",
    "    X= testX[i]\n",
    "    X = X.reshape(dim)\n",
    "    lpq_feat = lpq(X)\n",
    "    test_feat.append(lpq_feat)\n",
    "\n",
    "test_feat = np.array(test_feat)\n",
    "\n",
    "print(test_feat.shape)\n",
    "\n",
    "numTrain = int(pd.to_numeric(trainX.shape[0]))\n",
    "print(numTrain)\n",
    "\n",
    "numTest = int(pd.to_numeric(testX.shape[0]))\n",
    "print(numTest)"
   ]
  },
  {
   "cell_type": "markdown",
   "metadata": {},
   "source": [
    "# Create model that work on LPQ features"
   ]
  },
  {
   "cell_type": "code",
   "execution_count": 23,
   "metadata": {},
   "outputs": [
    {
     "data": {
      "text/plain": [
       "((2880, 256), (11520, 256), (2880, 105, 105, 1), (11520, 105, 105, 1))"
      ]
     },
     "execution_count": 23,
     "metadata": {},
     "output_type": "execute_result"
    }
   ],
   "source": [
    "test_feat.shape, train_feat.shape, testX.shape, trainX.shape"
   ]
  },
  {
   "cell_type": "code",
   "execution_count": 24,
   "metadata": {},
   "outputs": [],
   "source": [
    "model = Sequential()\n",
    "model.add(Conv1D(filters=32, kernel_size=12, input_shape=(256,1)))\n",
    "model.add(BatchNormalization())\n",
    "model.add(MaxPooling1D(pool_size=2))\n",
    "\n",
    "model.add(Conv1D(64, kernel_size=24, activation='relu'))\n",
    "model.add(BatchNormalization())\n",
    "model.add(MaxPooling1D(pool_size=2))"
   ]
  },
  {
   "cell_type": "code",
   "execution_count": 25,
   "metadata": {},
   "outputs": [],
   "source": [
    "#Cs Layers\n",
    "model.add(Conv1D(256, kernel_size=12, activation='relu'))\n",
    "\n",
    "model.add(Conv1D(256, kernel_size=12, activation='relu'))\n",
    "\n",
    "model.add(Conv1D(256, kernel_size=12, activation='relu'))\n",
    "\n",
    "model.add(Flatten())\n",
    "\n",
    "model.add(Dense(4096, activation='relu'))\n",
    "\n",
    "model.add(Dropout(0.5))\n",
    "\n",
    "model.add(Dense(4096,activation='relu'))\n",
    "\n",
    "model.add(Dropout(0.5))\n",
    "\n",
    "model.add(Dense(2383,activation='relu'))\n",
    "model.add(Dropout(0.5))\n",
    "\n",
    "#model.add(Flatten())\n",
    "\n",
    "model.add(Dense(128, activation='relu'))\n",
    "model.add(Dense(7, activation='softmax'))"
   ]
  },
  {
   "cell_type": "markdown",
   "metadata": {},
   "source": [
    "# reshaping LPQ training and testing features according to input of CNN here 256 is no of features per image"
   ]
  },
  {
   "cell_type": "code",
   "execution_count": 26,
   "metadata": {},
   "outputs": [
    {
     "name": "stderr",
     "output_type": "stream",
     "text": [
      "C:\\ProgramData\\Anaconda3\\lib\\site-packages\\keras\\optimizer_v2\\gradient_descent.py:102: UserWarning: The `lr` argument is deprecated, use `learning_rate` instead.\n",
      "  super(SGD, self).__init__(name, **kwargs)\n"
     ]
    }
   ],
   "source": [
    "train_feat = train_feat.reshape((len(train_feat),256,1))\n",
    "test_feat = test_feat.reshape((len(test_feat),256,1))\n",
    "batch_size = 16\n",
    "epochs = 25\n",
    "sgd = tf.keras.optimizers.SGD(lr=0.01, decay=1e-6, momentum=0.9, nesterov=True)\n",
    "model.compile(loss='mean_squared_error', optimizer=sgd, metrics=['accuracy'])\n",
    "\n",
    "early_stopping=callbacks.EarlyStopping(monitor='val_loss', min_delta=0, patience=10, verbose=0, mode='min')"
   ]
  },
  {
   "cell_type": "markdown",
   "metadata": {},
   "source": [
    "# file path where the model weights will be stored"
   ]
  },
  {
   "cell_type": "code",
   "execution_count": 27,
   "metadata": {
    "scrolled": false
   },
   "outputs": [
    {
     "name": "stdout",
     "output_type": "stream",
     "text": [
      "Model: \"sequential\"\n",
      "_________________________________________________________________\n",
      " Layer (type)                Output Shape              Param #   \n",
      "=================================================================\n",
      " conv1d (Conv1D)             (None, 245, 32)           416       \n",
      "                                                                 \n",
      " batch_normalization (BatchN  (None, 245, 32)          128       \n",
      " ormalization)                                                   \n",
      "                                                                 \n",
      " max_pooling1d (MaxPooling1D  (None, 122, 32)          0         \n",
      " )                                                               \n",
      "                                                                 \n",
      " conv1d_1 (Conv1D)           (None, 99, 64)            49216     \n",
      "                                                                 \n",
      " batch_normalization_1 (Batc  (None, 99, 64)           256       \n",
      " hNormalization)                                                 \n",
      "                                                                 \n",
      " max_pooling1d_1 (MaxPooling  (None, 49, 64)           0         \n",
      " 1D)                                                             \n",
      "                                                                 \n",
      " conv1d_2 (Conv1D)           (None, 38, 256)           196864    \n",
      "                                                                 \n",
      " conv1d_3 (Conv1D)           (None, 27, 256)           786688    \n",
      "                                                                 \n",
      " conv1d_4 (Conv1D)           (None, 16, 256)           786688    \n",
      "                                                                 \n",
      " flatten (Flatten)           (None, 4096)              0         \n",
      "                                                                 \n",
      " dense (Dense)               (None, 4096)              16781312  \n",
      "                                                                 \n",
      " dropout (Dropout)           (None, 4096)              0         \n",
      "                                                                 \n",
      " dense_1 (Dense)             (None, 4096)              16781312  \n",
      "                                                                 \n",
      " dropout_1 (Dropout)         (None, 4096)              0         \n",
      "                                                                 \n",
      " dense_2 (Dense)             (None, 2383)              9763151   \n",
      "                                                                 \n",
      " dropout_2 (Dropout)         (None, 2383)              0         \n",
      "                                                                 \n",
      " dense_3 (Dense)             (None, 128)               305152    \n",
      "                                                                 \n",
      " dense_4 (Dense)             (None, 7)                 903       \n",
      "                                                                 \n",
      "=================================================================\n",
      "Total params: 45,452,086\n",
      "Trainable params: 45,451,894\n",
      "Non-trainable params: 192\n",
      "_________________________________________________________________\n",
      "None\n",
      "Epoch 1/25\n",
      "720/720 [==============================] - ETA: 0s - loss: 0.0902 - accuracy: 0.4513\n",
      "Epoch 1: val_loss improved from inf to 0.06816, saving model to top_model.h5\n",
      "720/720 [==============================] - 397s 549ms/step - loss: 0.0902 - accuracy: 0.4513 - val_loss: 0.0682 - val_accuracy: 0.6174\n",
      "Epoch 2/25\n",
      "720/720 [==============================] - ETA: 0s - loss: 0.0540 - accuracy: 0.7202\n",
      "Epoch 2: val_loss improved from 0.06816 to 0.03865, saving model to top_model.h5\n",
      "720/720 [==============================] - 386s 536ms/step - loss: 0.0540 - accuracy: 0.7202 - val_loss: 0.0387 - val_accuracy: 0.8108\n",
      "Epoch 3/25\n",
      "720/720 [==============================] - ETA: 0s - loss: 0.0356 - accuracy: 0.8247\n",
      "Epoch 3: val_loss improved from 0.03865 to 0.02958, saving model to top_model.h5\n",
      "720/720 [==============================] - 398s 553ms/step - loss: 0.0356 - accuracy: 0.8247 - val_loss: 0.0296 - val_accuracy: 0.8622\n",
      "Epoch 4/25\n",
      "720/720 [==============================] - ETA: 0s - loss: 0.0240 - accuracy: 0.8846\n",
      "Epoch 4: val_loss improved from 0.02958 to 0.02479, saving model to top_model.h5\n",
      "720/720 [==============================] - 385s 535ms/step - loss: 0.0240 - accuracy: 0.8846 - val_loss: 0.0248 - val_accuracy: 0.8906\n",
      "Epoch 5/25\n",
      "720/720 [==============================] - ETA: 0s - loss: 0.0174 - accuracy: 0.9211\n",
      "Epoch 5: val_loss improved from 0.02479 to 0.02124, saving model to top_model.h5\n",
      "720/720 [==============================] - 359s 499ms/step - loss: 0.0174 - accuracy: 0.9211 - val_loss: 0.0212 - val_accuracy: 0.9035\n",
      "Epoch 6/25\n",
      "720/720 [==============================] - ETA: 0s - loss: 0.0144 - accuracy: 0.9350\n",
      "Epoch 6: val_loss improved from 0.02124 to 0.01433, saving model to top_model.h5\n",
      "720/720 [==============================] - 311s 432ms/step - loss: 0.0144 - accuracy: 0.9350 - val_loss: 0.0143 - val_accuracy: 0.9347\n",
      "Epoch 7/25\n",
      "720/720 [==============================] - ETA: 0s - loss: 0.0109 - accuracy: 0.9523\n",
      "Epoch 7: val_loss improved from 0.01433 to 0.01173, saving model to top_model.h5\n",
      "720/720 [==============================] - 304s 422ms/step - loss: 0.0109 - accuracy: 0.9523 - val_loss: 0.0117 - val_accuracy: 0.9469\n",
      "Epoch 8/25\n",
      "720/720 [==============================] - ETA: 0s - loss: 0.0086 - accuracy: 0.9612\n",
      "Epoch 8: val_loss improved from 0.01173 to 0.00979, saving model to top_model.h5\n",
      "720/720 [==============================] - 306s 424ms/step - loss: 0.0086 - accuracy: 0.9612 - val_loss: 0.0098 - val_accuracy: 0.9566\n",
      "Epoch 9/25\n",
      "720/720 [==============================] - ETA: 0s - loss: 0.0060 - accuracy: 0.9734\n",
      "Epoch 9: val_loss did not improve from 0.00979\n",
      "720/720 [==============================] - 317s 441ms/step - loss: 0.0060 - accuracy: 0.9734 - val_loss: 0.0140 - val_accuracy: 0.9361\n",
      "Epoch 10/25\n",
      "720/720 [==============================] - ETA: 0s - loss: 0.0058 - accuracy: 0.9746\n",
      "Epoch 10: val_loss improved from 0.00979 to 0.00973, saving model to top_model.h5\n",
      "720/720 [==============================] - 302s 419ms/step - loss: 0.0058 - accuracy: 0.9746 - val_loss: 0.0097 - val_accuracy: 0.9594\n",
      "Epoch 11/25\n",
      "720/720 [==============================] - ETA: 0s - loss: 0.0050 - accuracy: 0.9781\n",
      "Epoch 11: val_loss improved from 0.00973 to 0.00786, saving model to top_model.h5\n",
      "720/720 [==============================] - 305s 424ms/step - loss: 0.0050 - accuracy: 0.9781 - val_loss: 0.0079 - val_accuracy: 0.9660\n",
      "Epoch 12/25\n",
      "720/720 [==============================] - ETA: 0s - loss: 0.0040 - accuracy: 0.9823\n",
      "Epoch 12: val_loss did not improve from 0.00786\n",
      "720/720 [==============================] - 305s 423ms/step - loss: 0.0040 - accuracy: 0.9823 - val_loss: 0.0132 - val_accuracy: 0.9438\n",
      "Epoch 13/25\n",
      "720/720 [==============================] - ETA: 0s - loss: 0.0035 - accuracy: 0.9856\n",
      "Epoch 13: val_loss did not improve from 0.00786\n",
      "720/720 [==============================] - 328s 455ms/step - loss: 0.0035 - accuracy: 0.9856 - val_loss: 0.0119 - val_accuracy: 0.9458\n",
      "Epoch 14/25\n",
      "720/720 [==============================] - ETA: 0s - loss: 0.0041 - accuracy: 0.9816\n",
      "Epoch 14: val_loss did not improve from 0.00786\n",
      "720/720 [==============================] - 337s 468ms/step - loss: 0.0041 - accuracy: 0.9816 - val_loss: 0.0081 - val_accuracy: 0.9625\n",
      "Epoch 15/25\n",
      "720/720 [==============================] - ETA: 0s - loss: 0.0027 - accuracy: 0.9887\n",
      "Epoch 15: val_loss improved from 0.00786 to 0.00711, saving model to top_model.h5\n",
      "720/720 [==============================] - 328s 454ms/step - loss: 0.0027 - accuracy: 0.9887 - val_loss: 0.0071 - val_accuracy: 0.9691\n",
      "Epoch 16/25\n",
      "720/720 [==============================] - ETA: 0s - loss: 0.0021 - accuracy: 0.9911\n",
      "Epoch 16: val_loss did not improve from 0.00711\n",
      "720/720 [==============================] - 304s 421ms/step - loss: 0.0021 - accuracy: 0.9911 - val_loss: 0.0074 - val_accuracy: 0.9688\n",
      "Epoch 17/25\n",
      "720/720 [==============================] - ETA: 0s - loss: 0.0022 - accuracy: 0.9907\n",
      "Epoch 17: val_loss improved from 0.00711 to 0.00673, saving model to top_model.h5\n",
      "720/720 [==============================] - 317s 440ms/step - loss: 0.0022 - accuracy: 0.9907 - val_loss: 0.0067 - val_accuracy: 0.9722\n"
     ]
    },
    {
     "name": "stdout",
     "output_type": "stream",
     "text": [
      "Epoch 18/25\n",
      "720/720 [==============================] - ETA: 0s - loss: 0.0015 - accuracy: 0.9937\n",
      "Epoch 18: val_loss improved from 0.00673 to 0.00559, saving model to top_model.h5\n",
      "720/720 [==============================] - 316s 438ms/step - loss: 0.0015 - accuracy: 0.9937 - val_loss: 0.0056 - val_accuracy: 0.9760\n",
      "Epoch 19/25\n",
      "720/720 [==============================] - ETA: 0s - loss: 0.0017 - accuracy: 0.9928\n",
      "Epoch 19: val_loss did not improve from 0.00559\n",
      "720/720 [==============================] - 350s 485ms/step - loss: 0.0017 - accuracy: 0.9928 - val_loss: 0.0075 - val_accuracy: 0.9701\n",
      "Epoch 20/25\n",
      "720/720 [==============================] - ETA: 0s - loss: 0.0018 - accuracy: 0.9924\n",
      "Epoch 20: val_loss did not improve from 0.00559\n",
      "720/720 [==============================] - 353s 490ms/step - loss: 0.0018 - accuracy: 0.9924 - val_loss: 0.0073 - val_accuracy: 0.9698\n",
      "Epoch 21/25\n",
      "720/720 [==============================] - ETA: 0s - loss: 0.0021 - accuracy: 0.9911\n",
      "Epoch 21: val_loss did not improve from 0.00559\n",
      "720/720 [==============================] - 361s 501ms/step - loss: 0.0021 - accuracy: 0.9911 - val_loss: 0.0065 - val_accuracy: 0.9736\n",
      "Epoch 22/25\n",
      "720/720 [==============================] - ETA: 0s - loss: 0.0013 - accuracy: 0.9949\n",
      "Epoch 22: val_loss improved from 0.00559 to 0.00530, saving model to top_model.h5\n",
      "720/720 [==============================] - 360s 501ms/step - loss: 0.0013 - accuracy: 0.9949 - val_loss: 0.0053 - val_accuracy: 0.9767\n",
      "Epoch 23/25\n",
      "720/720 [==============================] - ETA: 0s - loss: 0.0013 - accuracy: 0.9948\n",
      "Epoch 23: val_loss did not improve from 0.00530\n",
      "720/720 [==============================] - 371s 516ms/step - loss: 0.0013 - accuracy: 0.9948 - val_loss: 0.0073 - val_accuracy: 0.9712\n",
      "Epoch 24/25\n",
      "720/720 [==============================] - ETA: 0s - loss: 0.0017 - accuracy: 0.9929\n",
      "Epoch 24: val_loss did not improve from 0.00530\n",
      "720/720 [==============================] - 357s 496ms/step - loss: 0.0017 - accuracy: 0.9929 - val_loss: 0.0066 - val_accuracy: 0.9722\n",
      "Epoch 25/25\n",
      "720/720 [==============================] - ETA: 0s - loss: 0.0012 - accuracy: 0.9953\n",
      "Epoch 25: val_loss did not improve from 0.00530\n",
      "720/720 [==============================] - 368s 511ms/step - loss: 0.0012 - accuracy: 0.9953 - val_loss: 0.0055 - val_accuracy: 0.9764\n"
     ]
    }
   ],
   "source": [
    "filepath=\"top_model.h5\"\n",
    "\n",
    "checkpoint = callbacks.ModelCheckpoint(filepath, monitor='val_loss', verbose=1, save_best_only=True, mode='min')\n",
    "\n",
    "callbacks_list = [early_stopping,checkpoint]\n",
    "\n",
    "print(model.summary())\n",
    "\n",
    "history = model.fit(train_feat, trainY,shuffle=True,\n",
    "          batch_size=batch_size,\n",
    "          epochs=epochs,\n",
    "          verbose=1,\n",
    "          validation_data=(test_feat, testY),callbacks=callbacks_list)"
   ]
  },
  {
   "cell_type": "code",
   "execution_count": 28,
   "metadata": {},
   "outputs": [
    {
     "name": "stdout",
     "output_type": "stream",
     "text": [
      "dict_keys(['loss', 'accuracy', 'val_loss', 'val_accuracy'])\n"
     ]
    },
    {
     "data": {
      "image/png": "[encoded data removed]",
      "text/plain": [
       "<Figure size 432x288 with 1 Axes>"
      ]
     },
     "metadata": {
      "needs_background": "light"
     },
     "output_type": "display_data"
    }
   ],
   "source": [
    "# list all data in history\n",
    "print(history.history.keys())\n",
    "# summarize history for accuracy\n",
    "plt.plot(history.history['accuracy'])\n",
    "plt.plot(history.history['val_accuracy'])\n",
    "plt.title('model accuracy')\n",
    "plt.ylabel('accuracy')\n",
    "plt.xlabel('epoch')\n",
    "plt.legend(['train', 'test'], loc='upper left')\n",
    "plt.show()"
   ]
  },
  {
   "cell_type": "code",
   "execution_count": 29,
   "metadata": {},
   "outputs": [
    {
     "data": {
      "image/png": "[encoded data removed]",
      "text/plain": [
       "<Figure size 432x288 with 1 Axes>"
      ]
     },
     "metadata": {
      "needs_background": "light"
     },
     "output_type": "display_data"
    },
    {
     "name": "stdout",
     "output_type": "stream",
     "text": [
      "Test loss: 0.0055152541026473045\n",
      "Test accuracy: 0.9763888716697693\n",
      "Test loss: 0.005304320715367794\n",
      "Test accuracy: 0.9767361283302307\n"
     ]
    }
   ],
   "source": [
    "# summarize history for loss\n",
    "plt.plot(history.history['loss'])\n",
    "plt.plot(history.history['val_loss'])\n",
    "plt.title('model loss')\n",
    "plt.ylabel('loss')\n",
    "plt.xlabel('epoch')\n",
    "plt.legend(['train', 'test'], loc='upper left')\n",
    "plt.show()\n",
    "\n",
    "score = model.evaluate(test_feat, testY, verbose=0)\n",
    "print('Test loss:', score[0])\n",
    "print('Test accuracy:', score[1])\n",
    "\n",
    "from keras.models import load_model\n",
    "model = load_model('top_model.h5')\n",
    "\n",
    "score = model.evaluate(test_feat, testY, verbose=0)\n",
    "print('Test loss:', score[0])\n",
    "print('Test accuracy:', score[1])"
   ]
  },
  {
   "cell_type": "code",
   "execution_count": 36,
   "metadata": {},
   "outputs": [],
   "source": [
    "def plot_confusion_matrix(cm, classes, normalize=False, title='Confusion matrix', cmap=plt.cm.Blues):\n",
    "\n",
    "  #Add Normalization Option\n",
    "  #prints pretty confusion metric with normalization option\n",
    "    if normalize:\n",
    "        cm = cm.astype('float') / cm.sum(axis=1)[:, np.newaxis]\n",
    "        print('Normalized confusion matrix')\n",
    "    else:\n",
    "        print('Confusion matrix, without normalization')\n",
    "\n",
    "  # print(cm)\n",
    "    plt.figure(figsize=(6,6))\n",
    "    plt.imshow(cm, interpolation='nearest', cmap=cmap)\n",
    "    plt.title(title)\n",
    "    plt.colorbar()\n",
    "    tick_marks = np.arange(len(classes))\n",
    "    plt.xticks(tick_marks, classes, rotation=45)\n",
    "    plt.yticks(tick_marks, classes)\n",
    "\n",
    "    fmt = '.2f' if normalize else 'd'\n",
    "    thresh = cm.max() / 2.\n",
    "    for i, j in itertools.product(range(cm.shape[0]), range(cm.shape[1])):\n",
    "        plt.text(j, i, format(cm[i, j], fmt), horizontalalignment='center', color='white' if cm[i, j] > thresh else 'black')\n",
    "\n",
    "    plt.tight_layout()\n",
    "    plt.ylabel('True label')\n",
    "    plt.xlabel('Predicted label')"
   ]
  },
  {
   "cell_type": "code",
   "execution_count": 42,
   "metadata": {},
   "outputs": [
    {
     "name": "stdout",
     "output_type": "stream",
     "text": [
      "Confusion matrix, without normalization\n"
     ]
    },
    {
     "data": {
      "image/png": "[encoded data removed]",
      "text/plain": [
       "<Figure size 432x432 with 2 Axes>"
      ]
     },
     "metadata": {
      "needs_background": "light"
     },
     "output_type": "display_data"
    }
   ],
   "source": [
    "from sklearn.metrics import classification_report, confusion_matrix\n",
    "predict_x=model.predict(test_feat) \n",
    "classes_x=np.argmax(predict_x,axis=1)\n",
    "p1=[]\n",
    "for i in range(0,len(testY)):\n",
    "    for j in range(0,3):\n",
    "        if(testY[i][j]==1):\n",
    "            p1.append(j)\n",
    "\n",
    "cm = confusion_matrix(classes_x, p1)\n",
    "classes = ['Potato___Early_blight','Potato___healthy','Potato___Late_blight']\n",
    "plot_confusion_matrix(cm,classes)"
   ]
  },
  {
   "cell_type": "code",
   "execution_count": 38,
   "metadata": {},
   "outputs": [],
   "source": [
    "from sklearn.metrics import precision_score, classification_report, recall_score, f1_score"
   ]
  },
  {
   "cell_type": "code",
   "execution_count": 39,
   "metadata": {},
   "outputs": [
    {
     "name": "stdout",
     "output_type": "stream",
     "text": [
      "Precision: 0.977\n"
     ]
    }
   ],
   "source": [
    "# 'micro', 'macro', 'weighted'\n",
    "precision = precision_score(classes_x, p1, average='micro')\n",
    "print('Precision: %.3f' % precision)"
   ]
  },
  {
   "cell_type": "code",
   "execution_count": 40,
   "metadata": {},
   "outputs": [
    {
     "name": "stdout",
     "output_type": "stream",
     "text": [
      "Precision: 0.977\n"
     ]
    }
   ],
   "source": [
    "recall = recall_score(classes_x, p1, average='micro')\n",
    "print('Precision: %.3f' % recall)"
   ]
  },
  {
   "cell_type": "code",
   "execution_count": 41,
   "metadata": {},
   "outputs": [
    {
     "name": "stdout",
     "output_type": "stream",
     "text": [
      "Precision: 0.977\n"
     ]
    }
   ],
   "source": [
    "f1 = f1_score(classes_x, p1, average='micro')\n",
    "print('Precision: %.3f' % f1)"
   ]
  },
  {
   "cell_type": "code",
   "execution_count": null,
   "metadata": {},
   "outputs": [],
   "source": []
  }
 ],
 "metadata": {
  "kernelspec": {
   "display_name": "Python 3 (ipykernel)",
   "language": "python",
   "name": "python3"
  },
  "language_info": {
   "codemirror_mode": {
    "name": "ipython",
    "version": 3
   },
   "file_extension": ".py",
   "mimetype": "text/x-python",
   "name": "python",
   "nbconvert_exporter": "python",
   "pygments_lexer": "ipython3",
   "version": "3.9.7"
  }
 },
 "nbformat": 4,
 "nbformat_minor": 2
}
