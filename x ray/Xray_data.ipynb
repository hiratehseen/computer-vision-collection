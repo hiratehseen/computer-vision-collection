{
 "cells": [
  {
   "cell_type": "code",
   "execution_count": 1,
   "metadata": {
    "id": "CFbQc6kMXH3D"
   },
   "outputs": [],
   "source": [
    "import cv2\n",
    "import numpy as np\n",
    "import pandas as pd\n",
    "import os\n",
    "import tensorflow as tf\n",
    "import matplotlib.pyplot as plt"
   ]
  },
  {
   "cell_type": "code",
   "execution_count": 2,
   "metadata": {
    "id": "4J4-MaoI8Uu4"
   },
   "outputs": [],
   "source": [
    "# data collection\n",
    "def load_data(data):\n",
    "    # Load the train data from the train file\n",
    "    # Read train CSV file and select 'Path' and 'Pneumonia' columns\n",
    "    df = pd.read_csv(data, usecols=['Path', 'Pneumonia'])\n",
    "    df = df[df['Pneumonia'].notna()]\n",
    "    df = df.replace(-1, 0)\n",
    "#     df = df[df['Pneumonia'] != -1]\n",
    "    return df"
   ]
  },
  {
   "cell_type": "code",
   "execution_count": 3,
   "metadata": {
    "id": "YXm_qcuy8Zqs"
   },
   "outputs": [
    {
     "data": {
      "text/plain": [
       "((27608, 2), (234, 2))"
      ]
     },
     "execution_count": 3,
     "metadata": {},
     "output_type": "execute_result"
    }
   ],
   "source": [
    "train = load_data('CheXpert-v1.0-small/train.csv')\n",
    "valid = load_data('CheXpert-v1.0-small/valid.csv')\n",
    "train.shape, valid.shape"
   ]
  },
  {
   "cell_type": "code",
   "execution_count": 4,
   "metadata": {
    "id": "lMDAycS78pRM"
   },
   "outputs": [
    {
     "data": {
      "text/plain": [
       "0.0    21569\n",
       "1.0     6039\n",
       "Name: Pneumonia, dtype: int64"
      ]
     },
     "execution_count": 4,
     "metadata": {},
     "output_type": "execute_result"
    }
   ],
   "source": [
    "train['Pneumonia'].value_counts()"
   ]
  },
  {
   "cell_type": "code",
   "execution_count": 5,
   "metadata": {
    "id": "hF8EetvTIEh_"
   },
   "outputs": [],
   "source": [
    "batch_size = 32\n",
    "image_size = (224, 224)\n",
    "input_shape = (224, 224, 3)\n",
    "num_views = 1\n",
    "num_classes = 2\n",
    "num_channels = 3"
   ]
  },
  {
   "cell_type": "code",
   "execution_count": 6,
   "metadata": {
    "id": "82se_kENH_xX"
   },
   "outputs": [],
   "source": [
    "def load_image(path, image_size):\n",
    "    img = cv2.imread(path)\n",
    "    img = cv2.resize(img, image_size)\n",
    "    return img\n",
    "\n",
    "# Create augmented numpy array\n",
    "def augment_data(data, labels):\n",
    "    aug_data = []\n",
    "    aug_labels = []\n",
    "    for i in range(len(data)):\n",
    "        # Add original data\n",
    "        aug_data.append(data[i])\n",
    "        aug_labels.append(labels[i])\n",
    "        \n",
    "        # Flip image horizontally\n",
    "        flip = np.fliplr(data[i])\n",
    "        aug_data.append(flip)\n",
    "        aug_labels.append(labels[i])\n",
    "        \n",
    "        # Rotate image by 90 degrees\n",
    "        rotate = np.rot90(data[i])\n",
    "        aug_data.append(rotate)\n",
    "        aug_labels.append(labels[i])\n",
    "        \n",
    "    aug_data = np.array(aug_data)\n",
    "    aug_labels = np.array(aug_labels)\n",
    "    return aug_data, aug_labels"
   ]
  },
  {
   "cell_type": "code",
   "execution_count": 7,
   "metadata": {
    "id": "sIcvd_6LAGsz"
   },
   "outputs": [],
   "source": [
    "# Load data\n",
    "train_data = []\n",
    "train_labels = []\n",
    "for i, row in train.iterrows():\n",
    "    path = row['Path']\n",
    "    label = row['Pneumonia']\n",
    "    img = load_image(path, image_size)\n",
    "    train_data.append(img)\n",
    "    train_labels.append(label)\n",
    "\n",
    "valid_data = []\n",
    "valid_labels = []\n",
    "for i, row in valid.iterrows():\n",
    "    path = row['Path']\n",
    "    label = row['Pneumonia']\n",
    "    img = load_image(path, image_size)\n",
    "    valid_data.append(img)\n",
    "    valid_labels.append(label)\n",
    "\n",
    "# Augment data\n",
    "train_data, train_labels = augment_data(train_data, train_labels)"
   ]
  },
  {
   "cell_type": "code",
   "execution_count": 8,
   "metadata": {
    "id": "3cWk4XDZH6Wf"
   },
   "outputs": [],
   "source": [
    "# Make sure number of 0 and 1 labels are equal\n",
    "num_zeros = len(train_labels[train_labels == 0])\n",
    "num_ones = len(train_labels[train_labels == 1])\n",
    "if num_zeros > num_ones:\n",
    "    # Remove excess 0 labels and data\n",
    "    remove_indices = np.random.choice(np.where(train_labels == 0)[0], num_zeros - num_ones, replace=False)\n",
    "    train_data = np.delete(train_data, remove_indices, axis=0)\n",
    "    train_labels = np.delete(train_labels, remove_indices)\n",
    "elif num_ones > num_zeros:\n",
    "    # Remove excess 1 labels and data\n",
    "    remove_indices = np.random.choice(np.where(train_labels == 1)[0], num_ones - num_zeros, replace=False)\n",
    "    train_data = np.delete(train_data, remove_indices, axis=0)\n",
    "    train_labels = np.delete(train_labels, remove_indices)"
   ]
  },
  {
   "cell_type": "code",
   "execution_count": 9,
   "metadata": {
    "id": "qckYKBZrLfQN"
   },
   "outputs": [],
   "source": [
    "# Shuffle data train data\n",
    "train_indices = np.arange(len(train_labels))\n",
    "np.random.shuffle(train_indices)\n",
    "train_data = train_data[train_indices]\n",
    "train_labels = train_labels[train_indices]\n",
    "\n",
    "# valid data\n",
    "valid_indices = np.arange(len(valid_labels))\n",
    "valid_data_new = []\n",
    "valid_labels_new = []\n",
    "for i in valid_indices:\n",
    "    valid_data_new.append(valid_data[i])\n",
    "    valid_labels_new.append(valid_labels[i])\n",
    "\n",
    "valid_data = valid_data_new\n",
    "valid_labels = valid_labels_new"
   ]
  },
  {
   "cell_type": "code",
   "execution_count": 10,
   "metadata": {
    "id": "okoJjdAYK5-x"
   },
   "outputs": [
    {
     "data": {
      "text/plain": [
       "(18117, 18117)"
      ]
     },
     "execution_count": 10,
     "metadata": {},
     "output_type": "execute_result"
    }
   ],
   "source": [
    "zero = 0\n",
    "one = 0\n",
    "for i in train_labels:\n",
    "  if i == 0:\n",
    "    zero += 1\n",
    "  else:\n",
    "    one += 1\n",
    "zero, one"
   ]
  },
  {
   "cell_type": "code",
   "execution_count": 11,
   "metadata": {
    "id": "MkR-iwzdhSQx"
   },
   "outputs": [
    {
     "data": {
      "text/plain": [
       "(36234, 224, 224, 3)"
      ]
     },
     "execution_count": 11,
     "metadata": {},
     "output_type": "execute_result"
    }
   ],
   "source": [
    "train_data.shape"
   ]
  },
  {
   "cell_type": "code",
   "execution_count": 12,
   "metadata": {
    "id": "XkeWpOPiNrEm"
   },
   "outputs": [
    {
     "name": "stdout",
     "output_type": "stream",
     "text": [
      "Defaulting to user installation because normal site-packages is not writeable\n",
      "Requirement already satisfied: vit_keras in c:\\users\\hira\\appdata\\roaming\\python\\python39\\site-packages (0.1.0)\n",
      "Requirement already satisfied: scipy in c:\\programdata\\anaconda3\\lib\\site-packages (from vit_keras) (1.7.3)\n",
      "Requirement already satisfied: validators in c:\\users\\hira\\appdata\\roaming\\python\\python39\\site-packages (from vit_keras) (0.20.0)\n",
      "Requirement already satisfied: numpy<1.23.0,>=1.16.5 in c:\\programdata\\anaconda3\\lib\\site-packages (from scipy->vit_keras) (1.21.5)\n",
      "Requirement already satisfied: decorator>=3.4.0 in c:\\programdata\\anaconda3\\lib\\site-packages (from validators->vit_keras) (5.1.1)\n",
      "Defaulting to user installation because normal site-packages is not writeable\n",
      "Requirement already satisfied: tensorflow_addons in c:\\users\\hira\\appdata\\roaming\\python\\python39\\site-packages (0.19.0)\n",
      "Requirement already satisfied: packaging in c:\\programdata\\anaconda3\\lib\\site-packages (from tensorflow_addons) (21.3)\n",
      "Requirement already satisfied: typeguard>=2.7 in c:\\users\\hira\\appdata\\roaming\\python\\python39\\site-packages (from tensorflow_addons) (2.13.3)\n",
      "Requirement already satisfied: pyparsing!=3.0.5,>=2.0.2 in c:\\programdata\\anaconda3\\lib\\site-packages (from packaging->tensorflow_addons) (3.0.4)\n"
     ]
    }
   ],
   "source": [
    "!pip install vit_keras\n",
    "!pip install tensorflow_addons"
   ]
  },
  {
   "cell_type": "code",
   "execution_count": 13,
   "metadata": {
    "id": "CTlm5HC2gPSc"
   },
   "outputs": [],
   "source": [
    "import tensorflow as tf\n",
    "from tensorflow.keras.layers import Input, Conv2D, MaxPooling2D, Flatten, Dense, GlobalAveragePooling2D, Dropout\n",
    "from tensorflow.keras.applications.vgg16 import preprocess_input as preprocess_input_vgg\n",
    "from tensorflow.keras.applications.vgg16 import VGG16\n",
    "from vit_keras import vit\n",
    "from keras.optimizers import Adam\n",
    "from tensorflow.keras.models import Model"
   ]
  },
  {
   "cell_type": "code",
   "execution_count": 14,
   "metadata": {
    "id": "OxcAXqd4i4NG"
   },
   "outputs": [],
   "source": [
    "# define the model\n",
    "base_model = VGG16(weights='imagenet', include_top=False, input_shape=input_shape)\n",
    "for layer in base_model.layers:\n",
    "    layer.trainable = False"
   ]
  },
  {
   "cell_type": "code",
   "execution_count": 15,
   "metadata": {},
   "outputs": [],
   "source": [
    "x = base_model.output\n",
    "x = GlobalAveragePooling2D()(x)\n",
    "x = Dense(128, activation='relu')(x)\n",
    "x = Dropout(0.5)(x)\n",
    "predictions = Dense(1, activation='sigmoid')(x)\n",
    "model = Model(inputs=base_model.input, outputs=predictions)"
   ]
  },
  {
   "cell_type": "code",
   "execution_count": 16,
   "metadata": {},
   "outputs": [
    {
     "name": "stderr",
     "output_type": "stream",
     "text": [
      "C:\\Users\\hira\\AppData\\Roaming\\Python\\Python39\\site-packages\\keras\\optimizers\\optimizer_v2\\adam.py:117: UserWarning: The `lr` argument is deprecated, use `learning_rate` instead.\n",
      "  super().__init__(name, **kwargs)\n"
     ]
    }
   ],
   "source": [
    "# compile the model\n",
    "optimizer = Adam(lr=1e-4)\n",
    "model.compile(optimizer=optimizer, loss='binary_crossentropy', metrics=['accuracy'])"
   ]
  },
  {
   "cell_type": "code",
   "execution_count": null,
   "metadata": {},
   "outputs": [
    {
     "name": "stdout",
     "output_type": "stream",
     "text": [
      "Epoch 1/10\n",
      " 693/1133 [=================>............] - ETA: 2:42:47 - loss: 0.9514 - accuracy: 0.5113"
     ]
    }
   ],
   "source": [
    "history = model.fit(train_data, train_labels, \n",
    "                    epochs=10, validation_data=(valid_data, valid_labels), batch_size=32, verbose=1)"
   ]
  },
  {
   "cell_type": "code",
   "execution_count": null,
   "metadata": {},
   "outputs": [],
   "source": []
  }
 ],
 "metadata": {
  "accelerator": "GPU",
  "colab": {
   "provenance": []
  },
  "gpuClass": "standard",
  "kernelspec": {
   "display_name": "Python 3 (ipykernel)",
   "language": "python",
   "name": "python3"
  },
  "language_info": {
   "codemirror_mode": {
    "name": "ipython",
    "version": 3
   },
   "file_extension": ".py",
   "mimetype": "text/x-python",
   "name": "python",
   "nbconvert_exporter": "python",
   "pygments_lexer": "ipython3",
   "version": "3.9.12"
  }
 },
 "nbformat": 4,
 "nbformat_minor": 1
}
