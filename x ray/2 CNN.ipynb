{
  "cells": [
    {
      "cell_type": "code",
      "source": [
        "# from google.colab import drive\n",
        "# drive.mount('/content/drive')"
      ],
      "metadata": {
        "id": "_p5GbvcvfjSc"
      },
      "execution_count": 1,
      "outputs": []
    },
    {
      "cell_type": "code",
      "execution_count": 2,
      "metadata": {
        "id": "ytzVo08mdZOR"
      },
      "outputs": [],
      "source": [
        "# !unzip /content/drive/MyDrive/CheXpert-v1.0-small.zip"
      ]
    },
    {
      "cell_type": "code",
      "execution_count": 3,
      "metadata": {
        "id": "slrYFWefdH0d"
      },
      "outputs": [],
      "source": [
        "import pandas as pd\n",
        "import cv2\n",
        "import numpy as np\n",
        "from tensorflow.keras.preprocessing.image import ImageDataGenerator"
      ]
    },
    {
      "cell_type": "code",
      "execution_count": 4,
      "metadata": {
        "id": "OvNrb1I7daWd"
      },
      "outputs": [],
      "source": [
        "def load_data(csv):\n",
        "    chunks = pd.read_csv(csv, usecols=['Path', 'Pneumonia'], chunksize=100)\n",
        "    dfs = []\n",
        "    for df in chunks:\n",
        "        df = df[df['Pneumonia'].notna()]\n",
        "        df = df[df['Pneumonia'] != -1]\n",
        "        dfs.append(df)\n",
        "    return pd.concat(dfs)\n",
        "\n",
        "\n",
        "def load_image(path):\n",
        "    img = cv2.imread(path)\n",
        "    img = cv2.cvtColor(img, cv2.COLOR_BGR2RGB)\n",
        "    img = cv2.resize(img, (224, 224))\n",
        "    return img\n",
        "\n",
        "\n",
        "def extract_data(df):\n",
        "    for index, row in df.iterrows():\n",
        "        img = load_image(row['Path'])\n",
        "        label = row['Pneumonia']\n",
        "        yield img, label\n",
        "\n",
        "\n",
        "# Load data from csv files in chunks\n",
        "train_df_chunks = load_data(\"/content/CheXpert-v1.0-small/train.csv\")\n",
        "valid_df_chunks = load_data(\"/content/CheXpert-v1.0-small/valid.csv\")"
      ]
    },
    {
      "cell_type": "code",
      "execution_count": 5,
      "metadata": {
        "id": "KoZldOAYd3ez",
        "colab": {
          "base_uri": "https://localhost:8080/"
        },
        "outputId": "752f2fb6-5592-4886-8354-5e4241b6b42d"
      },
      "outputs": [
        {
          "output_type": "execute_result",
          "data": {
            "text/plain": [
              "(1.0    6039\n",
              " 0.0    2799\n",
              " Name: Pneumonia, dtype: int64, 0.0    226\n",
              " 1.0      8\n",
              " Name: Pneumonia, dtype: int64)"
            ]
          },
          "metadata": {},
          "execution_count": 5
        }
      ],
      "source": [
        "train_df_chunks['Pneumonia'].value_counts(), valid_df_chunks['Pneumonia'].value_counts()"
      ]
    },
    {
      "cell_type": "code",
      "source": [
        "# Define generators for train and valid data\n",
        "train_gen = extract_data(train_df_chunks)\n",
        "valid_gen = extract_data(valid_df_chunks)\n",
        "\n",
        "# Extract data and labels using generators\n",
        "train_data, train_labels = zip(*train_gen)\n",
        "valid_data, valid_labels = zip(*valid_gen)\n",
        "\n",
        "# Convert lists to numpy arrays\n",
        "train_data = np.array(train_data)\n",
        "train_labels = np.array(train_labels)\n",
        "valid_data = np.array(valid_data)\n",
        "valid_labels = np.array(valid_labels)"
      ],
      "metadata": {
        "id": "hk_jEiZYhjvF"
      },
      "execution_count": 6,
      "outputs": []
    },
    {
      "cell_type": "code",
      "source": [
        "def augment_data(data, labels, batch_size=1):\n",
        "    # Calculate number of zeros and ones\n",
        "    zeros = np.count_nonzero(labels == 0)\n",
        "    ones = np.count_nonzero(labels == 1)\n",
        "    # Calculate difference between zeros and ones\n",
        "    diff = abs(zeros - ones)\n",
        "    # Create ImageDataGenerator object for augmentation\n",
        "    datagen = ImageDataGenerator(\n",
        "        rotation_range=20,\n",
        "        width_shift_range=0.1,\n",
        "        height_shift_range=0.1,\n",
        "        zoom_range=0.2,\n",
        "        horizontal_flip=True,\n",
        "        vertical_flip=True,\n",
        "        fill_mode=\"nearest\"\n",
        "    )\n",
        "    if zeros > ones:\n",
        "        # Augment ones to balance classes\n",
        "        augment_indices = np.random.choice(np.where(labels == 1)[0], diff)\n",
        "        new_data = np.empty((diff, ) + data.shape[1:], dtype=data.dtype)\n",
        "        new_labels = np.ones(diff, dtype=labels.dtype)\n",
        "        for i, index in enumerate(augment_indices):\n",
        "            # Reshape image to 4D tensor for augmentation\n",
        "            img = data[index].reshape((1, ) + data[index].shape)\n",
        "            # Generate augmented images\n",
        "            aug_imgs = datagen.flow(img, batch_size=batch_size)\n",
        "            # Append augmented images to data list\n",
        "            new_data[i:i+batch_size] = aug_imgs[0]\n",
        "        # Concatenate augmented data and labels with original data and labels\n",
        "        data = np.concatenate((data, new_data), axis=0)\n",
        "        labels = np.concatenate((labels, new_labels), axis=0)\n",
        "    elif ones > zeros:\n",
        "        # Augment zeros to balance classes\n",
        "        augment_indices = np.random.choice(np.where(labels == 0)[0], diff)\n",
        "        new_data = np.empty((diff, ) + data.shape[1:], dtype=data.dtype)\n",
        "        new_labels = np.zeros(diff, dtype=labels.dtype)\n",
        "        for i, index in enumerate(augment_indices):\n",
        "            # Reshape image to 4D tensor for augmentation\n",
        "            img = data[index].reshape((1, ) + data[index].shape)\n",
        "            # Generate augmented images\n",
        "            aug_imgs = datagen.flow(img, batch_size=batch_size)\n",
        "            # Append augmented images to data list\n",
        "            new_data[i:i+batch_size] = aug_imgs[0]\n",
        "        # Concatenate augmented data and labels with original data and labels\n",
        "        data = np.concatenate((data, new_data), axis=0)\n",
        "        labels = np.concatenate((labels, new_labels), axis=0)\n",
        "    return data, labels\n",
        "\n",
        "# Augment train data and labels with batch size of 16\n",
        "train_data, train_labels = augment_data(train_data, train_labels, batch_size=16)\n",
        "valid_data, valid_labels = augment_data(valid_data, valid_labels, batch_size=16)"
      ],
      "metadata": {
        "id": "Sw7sjshqhnv8"
      },
      "execution_count": 7,
      "outputs": []
    },
    {
      "cell_type": "code",
      "source": [
        "def shuffle_data(data, labels):\n",
        "    # Get shuffled indices\n",
        "    indices = np.arange(len(data))\n",
        "    np.random.shuffle(indices)\n",
        "    # Shuffle data and labels using shuffled indices\n",
        "    data = data[indices]\n",
        "    labels = labels[indices]\n",
        "    return data, labels\n",
        "\n",
        "# Shuffle train data and labels\n",
        "train_data, train_labels = shuffle_data(train_data, train_labels)\n",
        "valid_data, valid_labels = shuffle_data(valid_data, valid_labels)"
      ],
      "metadata": {
        "id": "BCIrgLqGhzpv"
      },
      "execution_count": 8,
      "outputs": []
    },
    {
      "cell_type": "code",
      "source": [
        "def check_balance(arr):\n",
        "    num_zeros = sum(arr == 0)\n",
        "    num_ones = sum(arr == 1)\n",
        "    if num_zeros == num_ones:\n",
        "        return True, num_zeros, num_ones\n",
        "    else:\n",
        "        return False, num_zeros, num_ones\n",
        "\n",
        "# Check if training labels are balanced after augmentation\n",
        "train_balanced = check_balance(train_labels)\n",
        "print(\"Training data is balanced:\", train_balanced)\n",
        "\n",
        "# Check if validation labels are balanced after augmentation\n",
        "valid_balanced = check_balance(valid_labels)\n",
        "print(\"Validation data is balanced:\", valid_balanced)"
      ],
      "metadata": {
        "colab": {
          "base_uri": "https://localhost:8080/"
        },
        "id": "N2BxeIasiDNb",
        "outputId": "cfdab10b-cdbb-4a20-b7b2-20fcbf2d129d"
      },
      "execution_count": 9,
      "outputs": [
        {
          "output_type": "stream",
          "name": "stdout",
          "text": [
            "Training data is balanced: (True, 6039, 6039)\n",
            "Validation data is balanced: (True, 226, 226)\n"
          ]
        }
      ]
    },
    {
      "cell_type": "code",
      "source": [
        "train_data_nor = np.empty(train_data.shape, dtype=np.float32)\n",
        "for i in range(train_data.shape[0]):\n",
        "    train_data_nor[i] = train_data[i].astype(np.float32) / 255.0"
      ],
      "metadata": {
        "id": "g9bw83K94qx-"
      },
      "execution_count": 10,
      "outputs": []
    },
    {
      "cell_type": "code",
      "source": [
        "valid_data_nor = np.empty(valid_data.shape, dtype=np.float32)\n",
        "for i in range(valid_data.shape[0]):\n",
        "    valid_data_nor[i] = valid_data[i].astype(np.float32) / 255.0"
      ],
      "metadata": {
        "id": "cmEZBilo-Soj"
      },
      "execution_count": 11,
      "outputs": []
    },
    {
      "cell_type": "code",
      "source": [
        "# !pip install vit_keras\n",
        "# !pip install tensorflow_addons"
      ],
      "metadata": {
        "id": "yIsJf_oiiTls"
      },
      "execution_count": 12,
      "outputs": []
    },
    {
      "cell_type": "code",
      "source": [
        "import tensorflow as tf\n",
        "from tensorflow.keras.layers import Input, Conv2D, MaxPooling2D, Flatten, Dense, Concatenate, Reshape, GlobalAveragePooling2D, GlobalMaxPooling2D \n",
        "from tensorflow.keras.optimizers import Adam\n",
        "from vit_keras import vit\n",
        "\n",
        "# Define CNN 1 layers\n",
        "cnn_input1 = Input(shape=(224, 224, 3))\n",
        "cnn_layer1 = Conv2D(filters=32, kernel_size=3, activation='relu')(cnn_input1)\n",
        "cnn_layer1 = MaxPooling2D(pool_size=2)(cnn_layer1)\n",
        "cnn_layer1 = Conv2D(filters=64, kernel_size=3, activation='relu')(cnn_layer1)\n",
        "cnn_layer1 = MaxPooling2D(pool_size=2)(cnn_layer1)\n",
        "cnn_layer1 = Conv2D(filters=128, kernel_size=3, activation='relu')(cnn_layer1)\n",
        "cnn_layer1 = MaxPooling2D(pool_size=2)(cnn_layer1)\n",
        "\n",
        "# Define CNN 2 layers\n",
        "cnn_input2 = Input(shape=(224, 224, 3))\n",
        "cnn_layer2 = Conv2D(filters=32, kernel_size=3, activation='relu')(cnn_input2)\n",
        "cnn_layer2 = MaxPooling2D(pool_size=2)(cnn_layer2)\n",
        "cnn_layer2 = Conv2D(filters=64, kernel_size=3, activation='relu')(cnn_layer2)\n",
        "cnn_layer2 = MaxPooling2D(pool_size=2)(cnn_layer2)\n",
        "cnn_layer2 = Conv2D(filters=128, kernel_size=3, activation='relu')(cnn_layer2)\n",
        "cnn_layer2 = MaxPooling2D(pool_size=2)(cnn_layer2)\n",
        "\n",
        "# Concatenate CNN layers\n",
        "concat_layer = Concatenate()([cnn_layer1, cnn_layer2])\n",
        "\n",
        "# Pooling layers\n",
        "pooled_resnet = GlobalMaxPooling2D()(concat_layer)\n",
        "\n",
        "# Define ViT layers\n",
        "vit_input1 = Input(shape=(224, 224, 3))\n",
        "vit_layer1 = vit.vit_b16(\n",
        "    image_size=224,\n",
        "    classes = 2,\n",
        "    activation='sigmoid',\n",
        "    pretrained=True,\n",
        "    include_top=True\n",
        ")(vit_input1)\n",
        "vit_output1 = Reshape((256,))(pooled_resnet)\n",
        "flatten = Flatten()(vit_output1)\n",
        "output = Dense(units=1, activation='sigmoid')(flatten)\n",
        "\n",
        "# Define the model\n",
        "model = tf.keras.Model(inputs=[cnn_input1, cnn_input2, vit_input1], outputs=output)\n",
        "model.compile(loss=\"binary_crossentropy\", optimizer=Adam(0.0001), metrics=[\"accuracy\"])\n",
        "model.summary()"
      ],
      "metadata": {
        "colab": {
          "base_uri": "https://localhost:8080/"
        },
        "id": "_E72yUdHQZ_L",
        "outputId": "5d84df48-e68e-45fd-ab32-e3fb570d3d56"
      },
      "execution_count": 13,
      "outputs": [
        {
          "output_type": "stream",
          "name": "stderr",
          "text": [
            "/usr/local/lib/python3.9/dist-packages/vit_keras/vit.py:139: UserWarning: Can only use pretrained_top with imagenet21k+imagenet2012 if classes = 1000. Setting manually.\n",
            "  warnings.warn(\n",
            "/usr/local/lib/python3.9/dist-packages/vit_keras/utils.py:81: UserWarning: Resizing position embeddings from 24, 24 to 14, 14\n",
            "  warnings.warn(\n"
          ]
        },
        {
          "output_type": "stream",
          "name": "stdout",
          "text": [
            "Model: \"model\"\n",
            "__________________________________________________________________________________________________\n",
            " Layer (type)                   Output Shape         Param #     Connected to                     \n",
            "==================================================================================================\n",
            " input_1 (InputLayer)           [(None, 224, 224, 3  0           []                               \n",
            "                                )]                                                                \n",
            "                                                                                                  \n",
            " input_2 (InputLayer)           [(None, 224, 224, 3  0           []                               \n",
            "                                )]                                                                \n",
            "                                                                                                  \n",
            " conv2d (Conv2D)                (None, 222, 222, 32  896         ['input_1[0][0]']                \n",
            "                                )                                                                 \n",
            "                                                                                                  \n",
            " conv2d_3 (Conv2D)              (None, 222, 222, 32  896         ['input_2[0][0]']                \n",
            "                                )                                                                 \n",
            "                                                                                                  \n",
            " max_pooling2d (MaxPooling2D)   (None, 111, 111, 32  0           ['conv2d[0][0]']                 \n",
            "                                )                                                                 \n",
            "                                                                                                  \n",
            " max_pooling2d_3 (MaxPooling2D)  (None, 111, 111, 32  0          ['conv2d_3[0][0]']               \n",
            "                                )                                                                 \n",
            "                                                                                                  \n",
            " conv2d_1 (Conv2D)              (None, 109, 109, 64  18496       ['max_pooling2d[0][0]']          \n",
            "                                )                                                                 \n",
            "                                                                                                  \n",
            " conv2d_4 (Conv2D)              (None, 109, 109, 64  18496       ['max_pooling2d_3[0][0]']        \n",
            "                                )                                                                 \n",
            "                                                                                                  \n",
            " max_pooling2d_1 (MaxPooling2D)  (None, 54, 54, 64)  0           ['conv2d_1[0][0]']               \n",
            "                                                                                                  \n",
            " max_pooling2d_4 (MaxPooling2D)  (None, 54, 54, 64)  0           ['conv2d_4[0][0]']               \n",
            "                                                                                                  \n",
            " conv2d_2 (Conv2D)              (None, 52, 52, 128)  73856       ['max_pooling2d_1[0][0]']        \n",
            "                                                                                                  \n",
            " conv2d_5 (Conv2D)              (None, 52, 52, 128)  73856       ['max_pooling2d_4[0][0]']        \n",
            "                                                                                                  \n",
            " max_pooling2d_2 (MaxPooling2D)  (None, 26, 26, 128)  0          ['conv2d_2[0][0]']               \n",
            "                                                                                                  \n",
            " max_pooling2d_5 (MaxPooling2D)  (None, 26, 26, 128)  0          ['conv2d_5[0][0]']               \n",
            "                                                                                                  \n",
            " concatenate (Concatenate)      (None, 26, 26, 256)  0           ['max_pooling2d_2[0][0]',        \n",
            "                                                                  'max_pooling2d_5[0][0]']        \n",
            "                                                                                                  \n",
            " global_max_pooling2d (GlobalMa  (None, 256)         0           ['concatenate[0][0]']            \n",
            " xPooling2D)                                                                                      \n",
            "                                                                                                  \n",
            " reshape_1 (Reshape)            (None, 256)          0           ['global_max_pooling2d[0][0]']   \n",
            "                                                                                                  \n",
            " flatten (Flatten)              (None, 256)          0           ['reshape_1[0][0]']              \n",
            "                                                                                                  \n",
            " input_3 (InputLayer)           [(None, 224, 224, 3  0           []                               \n",
            "                                )]                                                                \n",
            "                                                                                                  \n",
            " dense (Dense)                  (None, 1)            257         ['flatten[0][0]']                \n",
            "                                                                                                  \n",
            "==================================================================================================\n",
            "Total params: 186,753\n",
            "Trainable params: 186,753\n",
            "Non-trainable params: 0\n",
            "__________________________________________________________________________________________________\n"
          ]
        }
      ]
    },
    {
      "cell_type": "code",
      "source": [
        "# from keras.utils.vis_utils import plot_model\n",
        "# plot_model(model, to_file='model_plot.png', show_shapes=True, show_layer_names=True)"
      ],
      "metadata": {
        "id": "t9KBLQ9hckoZ"
      },
      "execution_count": 14,
      "outputs": []
    },
    {
      "cell_type": "code",
      "source": [
        "from tensorflow.keras.callbacks import EarlyStopping\n",
        "\n",
        "# define early stopping\n",
        "early_stop = EarlyStopping(monitor='val_loss', patience=5, verbose=1)\n",
        "history = model.fit([train_data, train_data, train_data], train_labels, epochs=10, batch_size=4, \n",
        "                    validation_data=([valid_data, valid_data, valid_data], valid_labels))"
      ],
      "metadata": {
        "id": "dUhUNJuUQaHP"
      },
      "execution_count": null,
      "outputs": []
    },
    {
      "cell_type": "code",
      "source": [],
      "metadata": {
        "id": "4ImArK6kuHTa"
      },
      "execution_count": null,
      "outputs": []
    }
  ],
  "metadata": {
    "accelerator": "GPU",
    "colab": {
      "provenance": []
    },
    "gpuClass": "standard",
    "kernelspec": {
      "display_name": "Python 3",
      "name": "python3"
    },
    "language_info": {
      "name": "python"
    }
  },
  "nbformat": 4,
  "nbformat_minor": 0
}