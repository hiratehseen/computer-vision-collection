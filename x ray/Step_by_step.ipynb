{
 "cells": [
  {
   "cell_type": "code",
   "execution_count": 1,
   "metadata": {
    "id": "sRQT1DZ3v_0x"
   },
   "outputs": [],
   "source": [
    "# !unzip /content/drive/MyDrive/Hira/CheXpert-v1.0-small.zip"
   ]
  },
  {
   "cell_type": "code",
   "execution_count": 2,
   "metadata": {
    "colab": {
     "base_uri": "https://localhost:8080/"
    },
    "id": "MRG5DnRJwMhW",
    "outputId": "910e9bd6-1b90-4710-dc73-91d713c6cce7"
   },
   "outputs": [
    {
     "data": {
      "text/plain": [
       "1.0    137\n",
       "0.0     63\n",
       "Name: Pneumonia, dtype: int64"
      ]
     },
     "execution_count": 2,
     "metadata": {},
     "output_type": "execute_result"
    }
   ],
   "source": [
    "import pandas as pd\n",
    "\n",
    "def load_data(csv):\n",
    "    df = pd.read_csv(csv)\n",
    "    # Keep only Path and Pneumonia columns\n",
    "    df = df[[\"Path\", \"Pneumonia\"]]\n",
    "    # Remove rows where Pneumonia is empty\n",
    "    df = df[df[\"Pneumonia\"].notna()]\n",
    "    # Remove -1\n",
    "    df = df[df['Pneumonia'] != -1]\n",
    "    # df = df.replace(-1, 0)\n",
    "    return df\n",
    "\n",
    "# Load data from csv files\n",
    "train_df = load_data(\"CheXpert-v1.0-small/train.csv\").head(200)\n",
    "valid_df = load_data(\"CheXpert-v1.0-small/valid.csv\").head(100)\n",
    "\n",
    "train_df['Pneumonia'].value_counts()"
   ]
  },
  {
   "cell_type": "code",
   "execution_count": 3,
   "metadata": {
    "id": "qjvefzgJH287"
   },
   "outputs": [],
   "source": [
    "import cv2\n",
    "import numpy as np\n",
    "\n",
    "def load_image(path):\n",
    "    # Load image from path\n",
    "    img = cv2.imread(path)\n",
    "    # Convert image to RGB format\n",
    "    img = cv2.cvtColor(img, cv2.COLOR_BGR2RGB)\n",
    "    # Resize image to 224 x 224\n",
    "    img = cv2.resize(img, (224, 224))\n",
    "    return img\n",
    "\n",
    "def extract_data(df):\n",
    "    data = []\n",
    "    labels = []\n",
    "    for index, row in df.iterrows():\n",
    "        # Load image from path\n",
    "        img = load_image(row[\"Path\"])\n",
    "        # Append image to data list\n",
    "        data.append(img)\n",
    "        # Append label to labels list\n",
    "        labels.append(row[\"Pneumonia\"])\n",
    "    # Convert lists to numpy arrays\n",
    "    data = np.array(data)\n",
    "    labels = np.array(labels)\n",
    "    return data, labels\n",
    "\n",
    "# Extract data from train and valid dataframes\n",
    "train_data, train_labels = extract_data(train_df)\n",
    "valid_data, valid_labels = extract_data(valid_df)"
   ]
  },
  {
   "cell_type": "code",
   "execution_count": 4,
   "metadata": {
    "id": "PnoZm9hsH-6s"
   },
   "outputs": [],
   "source": [
    "from tensorflow.keras.preprocessing.image import ImageDataGenerator\n",
    "\n",
    "def augment_data(data, labels):\n",
    "    # Calculate number of zeros and ones\n",
    "    zeros = np.count_nonzero(labels == 0)\n",
    "    ones = np.count_nonzero(labels == 1)\n",
    "    # Calculate difference between zeros and ones\n",
    "    diff = abs(zeros - ones)\n",
    "    # Create ImageDataGenerator object for augmentation\n",
    "    datagen = ImageDataGenerator(\n",
    "        rotation_range=20,\n",
    "        width_shift_range=0.1,\n",
    "        height_shift_range=0.1,\n",
    "        zoom_range=0.2,\n",
    "        horizontal_flip=True,\n",
    "        vertical_flip=True,\n",
    "        fill_mode=\"nearest\"\n",
    "    )\n",
    "    if zeros > ones:\n",
    "        # Augment ones to balance classes\n",
    "        augment_indices = np.random.choice(np.where(labels == 1)[0], diff)\n",
    "        for index in augment_indices:\n",
    "            # Reshape image to 4D tensor for augmentation\n",
    "            img = data[index].reshape((1, ) + data[index].shape)\n",
    "            # Generate augmented images\n",
    "            aug_imgs = datagen.flow(img, batch_size=1)\n",
    "            # Append augmented images to data list\n",
    "            data = np.append(data, aug_imgs[0], axis=0)\n",
    "            # Append labels to labels list\n",
    "            labels = np.append(labels, 1)\n",
    "    elif ones > zeros:\n",
    "        # Augment zeros to balance classes\n",
    "        augment_indices = np.random.choice(np.where(labels == 0)[0], diff)\n",
    "        for index in augment_indices:\n",
    "            # Reshape image to 4D tensor for augmentation\n",
    "            img = data[index].reshape((1, ) + data[index].shape)\n",
    "            # Generate augmented images\n",
    "            aug_imgs = datagen.flow(img, batch_size=1)\n",
    "            # Append augmented images to data list\n",
    "            data = np.append(data, aug_imgs[0], axis=0)\n",
    "            # Append labels to labels list\n",
    "            labels = np.append(labels, 0)\n",
    "    return data, labels\n",
    "\n",
    "# Augment train data and labels\n",
    "train_data, train_labels = augment_data(train_data, train_labels)\n",
    "valid_data, valid_labels = augment_data(valid_data, valid_labels)"
   ]
  },
  {
   "cell_type": "code",
   "execution_count": 5,
   "metadata": {
    "id": "b6DLdVXuICT1"
   },
   "outputs": [],
   "source": [
    "def shuffle_data(data, labels):\n",
    "    # Get shuffled indices\n",
    "    indices = np.arange(len(data))\n",
    "    np.random.shuffle(indices)\n",
    "    # Shuffle data and labels using shuffled indices\n",
    "    data = data[indices]\n",
    "    labels = labels[indices]\n",
    "    return data, labels\n",
    "\n",
    "# Shuffle train data and labels\n",
    "train_data, train_labels = shuffle_data(train_data, train_labels)\n",
    "valid_data, valid_labels = shuffle_data(valid_data, valid_labels)"
   ]
  },
  {
   "cell_type": "code",
   "execution_count": 6,
   "metadata": {
    "colab": {
     "base_uri": "https://localhost:8080/"
    },
    "id": "2P3jYGibIHS1",
    "outputId": "35e10259-f984-40fd-a2f6-c56d22b6bb19"
   },
   "outputs": [
    {
     "name": "stdout",
     "output_type": "stream",
     "text": [
      "Training data is balanced: (True, 137, 137)\n",
      "Validation data is balanced: (True, 96, 96)\n"
     ]
    }
   ],
   "source": [
    "def check_balance(arr):\n",
    "    num_zeros = sum(arr == 0)\n",
    "    num_ones = sum(arr == 1)\n",
    "    if num_zeros == num_ones:\n",
    "        return True, num_zeros, num_ones\n",
    "    else:\n",
    "        return False, num_zeros, num_ones\n",
    "\n",
    "# Check if training labels are balanced after augmentation\n",
    "train_balanced = check_balance(train_labels)\n",
    "print(\"Training data is balanced:\", train_balanced)\n",
    "\n",
    "# Check if validation labels are balanced after augmentation\n",
    "valid_balanced = check_balance(valid_labels)\n",
    "print(\"Validation data is balanced:\", valid_balanced)"
   ]
  },
  {
   "cell_type": "code",
   "execution_count": 7,
   "metadata": {
    "id": "GudbpXj_f7_q"
   },
   "outputs": [],
   "source": [
    "# pip install tensorflow_addons"
   ]
  },
  {
   "cell_type": "code",
   "execution_count": 8,
   "metadata": {
    "colab": {
     "base_uri": "https://localhost:8080/"
    },
    "id": "4lfoVVVYILn8",
    "outputId": "e877c2ac-324a-4bf5-cfa8-a5ed346798f2"
   },
   "outputs": [
    {
     "name": "stderr",
     "output_type": "stream",
     "text": [
      "c:\\Users\\hira\\AppData\\Local\\Programs\\Python\\Python310\\lib\\site-packages\\vit_keras\\utils.py:81: UserWarning: Resizing position embeddings from 24, 24 to 14, 14\n",
      "  warnings.warn(\n"
     ]
    }
   ],
   "source": [
    "import tensorflow as tf\n",
    "from tensorflow.keras.layers import Input, Conv2D, MaxPooling2D, Flatten, Dense, Concatenate, Reshape\n",
    "from tensorflow.keras.optimizers import Adam\n",
    "from vit_keras import vit\n",
    "\n",
    "# Define CNN 1 layers\n",
    "cnn_input1 = Input(shape=(224, 224, 3))\n",
    "cnn_layer1 = Conv2D(filters=32, kernel_size=3, activation='relu')(cnn_input1)\n",
    "cnn_layer1 = MaxPooling2D(pool_size=2)(cnn_layer1)\n",
    "cnn_layer1 = Conv2D(filters=64, kernel_size=3, activation='relu')(cnn_layer1)\n",
    "cnn_layer1 = MaxPooling2D(pool_size=2)(cnn_layer1)\n",
    "cnn_layer1 = Conv2D(filters=128, kernel_size=3, activation='relu')(cnn_layer1)\n",
    "cnn_layer1 = MaxPooling2D(pool_size=2)(cnn_layer1)\n",
    "cnn_layer1 = Flatten()(cnn_layer1)\n",
    "cnn_output1 = Dense(units=64, activation='relu')(cnn_layer1)\n",
    "\n",
    "# Define CNN 2 layers\n",
    "cnn_input2 = Input(shape=(224, 224, 3))\n",
    "cnn_layer2 = Conv2D(filters=32, kernel_size=3, activation='relu')(cnn_input2)\n",
    "cnn_layer2 = MaxPooling2D(pool_size=2)(cnn_layer2)\n",
    "cnn_layer2 = Conv2D(filters=64, kernel_size=3, activation='relu')(cnn_layer2)\n",
    "cnn_layer2 = MaxPooling2D(pool_size=2)(cnn_layer2)\n",
    "cnn_layer2 = Conv2D(filters=128, kernel_size=3, activation='relu')(cnn_layer2)\n",
    "cnn_layer2 = MaxPooling2D(pool_size=2)(cnn_layer2)\n",
    "cnn_layer2 = Flatten()(cnn_layer2)\n",
    "cnn_output2 = Dense(units=64, activation='relu')(cnn_layer2)\n",
    "\n",
    "# Define ViT layers\n",
    "vit_input1 = Input(shape=(224, 224, 3))\n",
    "vit_layer1 = vit.vit_b16(\n",
    "    image_size=224,\n",
    "    activation='sigmoid',\n",
    "    pretrained=True,\n",
    "    include_top=True\n",
    ")(vit_input1)\n",
    "vit_output1 = Reshape((1000,))(vit_layer1)\n",
    "\n",
    "# Concatenate CNN and ViT layers\n",
    "concat_layer = Concatenate()([cnn_output1, cnn_output2, vit_output1])\n",
    "output = Dense(units=1, activation='sigmoid')(concat_layer)\n",
    "\n",
    "# Define the model\n",
    "model = tf.keras.Model(inputs=[cnn_input1, cnn_input2, vit_input1], outputs=output)"
   ]
  },
  {
   "cell_type": "code",
   "execution_count": 9,
   "metadata": {
    "colab": {
     "base_uri": "https://localhost:8080/"
    },
    "id": "u2wsyfgwIS0y",
    "outputId": "1109fb58-bb09-42cb-cd94-cac68d45d6d4"
   },
   "outputs": [
    {
     "name": "stdout",
     "output_type": "stream",
     "text": [
      "Model: \"model\"\n",
      "__________________________________________________________________________________________________\n",
      " Layer (type)                   Output Shape         Param #     Connected to                     \n",
      "==================================================================================================\n",
      " input_1 (InputLayer)           [(None, 224, 224, 3  0           []                               \n",
      "                                )]                                                                \n",
      "                                                                                                  \n",
      " input_2 (InputLayer)           [(None, 224, 224, 3  0           []                               \n",
      "                                )]                                                                \n",
      "                                                                                                  \n",
      " conv2d (Conv2D)                (None, 222, 222, 32  896         ['input_1[0][0]']                \n",
      "                                )                                                                 \n",
      "                                                                                                  \n",
      " conv2d_3 (Conv2D)              (None, 222, 222, 32  896         ['input_2[0][0]']                \n",
      "                                )                                                                 \n",
      "                                                                                                  \n",
      " max_pooling2d (MaxPooling2D)   (None, 111, 111, 32  0           ['conv2d[0][0]']                 \n",
      "                                )                                                                 \n",
      "                                                                                                  \n",
      " max_pooling2d_3 (MaxPooling2D)  (None, 111, 111, 32  0          ['conv2d_3[0][0]']               \n",
      "                                )                                                                 \n",
      "                                                                                                  \n",
      " conv2d_1 (Conv2D)              (None, 109, 109, 64  18496       ['max_pooling2d[0][0]']          \n",
      "                                )                                                                 \n",
      "                                                                                                  \n",
      " conv2d_4 (Conv2D)              (None, 109, 109, 64  18496       ['max_pooling2d_3[0][0]']        \n",
      "                                )                                                                 \n",
      "                                                                                                  \n",
      " max_pooling2d_1 (MaxPooling2D)  (None, 54, 54, 64)  0           ['conv2d_1[0][0]']               \n",
      "                                                                                                  \n",
      " max_pooling2d_4 (MaxPooling2D)  (None, 54, 54, 64)  0           ['conv2d_4[0][0]']               \n",
      "                                                                                                  \n",
      " conv2d_2 (Conv2D)              (None, 52, 52, 128)  73856       ['max_pooling2d_1[0][0]']        \n",
      "                                                                                                  \n",
      " conv2d_5 (Conv2D)              (None, 52, 52, 128)  73856       ['max_pooling2d_4[0][0]']        \n",
      "                                                                                                  \n",
      " max_pooling2d_2 (MaxPooling2D)  (None, 26, 26, 128)  0          ['conv2d_2[0][0]']               \n",
      "                                                                                                  \n",
      " max_pooling2d_5 (MaxPooling2D)  (None, 26, 26, 128)  0          ['conv2d_5[0][0]']               \n",
      "                                                                                                  \n",
      " input_3 (InputLayer)           [(None, 224, 224, 3  0           []                               \n",
      "                                )]                                                                \n",
      "                                                                                                  \n",
      " flatten (Flatten)              (None, 86528)        0           ['max_pooling2d_2[0][0]']        \n",
      "                                                                                                  \n",
      " flatten_1 (Flatten)            (None, 86528)        0           ['max_pooling2d_5[0][0]']        \n",
      "                                                                                                  \n",
      " vit-b16 (Functional)           (None, 1000)         86567656    ['input_3[0][0]']                \n",
      "                                                                                                  \n",
      " dense (Dense)                  (None, 64)           5537856     ['flatten[0][0]']                \n",
      "                                                                                                  \n",
      " dense_1 (Dense)                (None, 64)           5537856     ['flatten_1[0][0]']              \n",
      "                                                                                                  \n",
      " reshape_1 (Reshape)            (None, 1000)         0           ['vit-b16[0][0]']                \n",
      "                                                                                                  \n",
      " concatenate (Concatenate)      (None, 1128)         0           ['dense[0][0]',                  \n",
      "                                                                  'dense_1[0][0]',                \n",
      "                                                                  'reshape_1[0][0]']              \n",
      "                                                                                                  \n",
      " dense_2 (Dense)                (None, 1)            1129        ['concatenate[0][0]']            \n",
      "                                                                                                  \n",
      "==================================================================================================\n",
      "Total params: 97,830,993\n",
      "Trainable params: 97,830,993\n",
      "Non-trainable params: 0\n",
      "__________________________________________________________________________________________________\n"
     ]
    }
   ],
   "source": [
    "model.compile(loss=\"binary_crossentropy\", optimizer=Adam(0.0001), metrics=[\"accuracy\"])\n",
    "model.summary()"
   ]
  },
  {
   "cell_type": "code",
   "execution_count": 10,
   "metadata": {
    "colab": {
     "base_uri": "https://localhost:8080/"
    },
    "id": "yvCRhfx2ITr6",
    "outputId": "2546f2ff-b1d4-47b6-8f98-9e9c3f6d3d02"
   },
   "outputs": [
    {
     "name": "stdout",
     "output_type": "stream",
     "text": [
      "Epoch 1/10\n",
      "69/69 [==============================] - 1111s 16s/step - loss: 4.8057 - accuracy: 0.5912 - val_loss: 2.6440 - val_accuracy: 0.2292\n",
      "Epoch 2/10\n",
      "69/69 [==============================] - 1029s 15s/step - loss: 0.5425 - accuracy: 0.7263 - val_loss: 2.2968 - val_accuracy: 0.4271\n",
      "Epoch 3/10\n",
      "69/69 [==============================] - 1267s 18s/step - loss: 0.1851 - accuracy: 0.9270 - val_loss: 2.6527 - val_accuracy: 0.3594\n",
      "Epoch 4/10\n",
      "69/69 [==============================] - ETA: 0s - loss: 0.2449 - accuracy: 0.8905 "
     ]
    }
   ],
   "source": [
    "history = model.fit([train_data, train_data, train_data], train_labels, epochs=10, batch_size=4, \n",
    "                    validation_data=([valid_data,valid_data, valid_data], valid_labels))"
   ]
  },
  {
   "cell_type": "code",
   "execution_count": null,
   "metadata": {},
   "outputs": [],
   "source": []
  }
 ],
 "metadata": {
  "accelerator": "GPU",
  "colab": {
   "machine_shape": "hm",
   "provenance": []
  },
  "gpuClass": "standard",
  "kernelspec": {
   "display_name": "Python 3 (ipykernel)",
   "language": "python",
   "name": "python3"
  },
  "language_info": {
   "codemirror_mode": {
    "name": "ipython",
    "version": 3
   },
   "file_extension": ".py",
   "mimetype": "text/x-python",
   "name": "python",
   "nbconvert_exporter": "python",
   "pygments_lexer": "ipython3",
   "version": "3.10.2"
  }
 },
 "nbformat": 4,
 "nbformat_minor": 1
}
