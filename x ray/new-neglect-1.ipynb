{
  "cells": [
    {
      "cell_type": "code",
      "execution_count": 3,
      "metadata": {
        "id": "yIsJf_oiiTls"
      },
      "outputs": [],
      "source": [
        "# # Install VIT model libraries\n",
        "# !pip install vit_keras\n",
        "# !pip install tensorflow_addons"
      ]
    },
    {
      "cell_type": "markdown",
      "metadata": {
        "id": "7coOhAXWSxE9"
      },
      "source": [
        "Import Libraries"
      ]
    },
    {
      "cell_type": "code",
      "execution_count": 1,
      "metadata": {
        "id": "slrYFWefdH0d"
      },
      "outputs": [],
      "source": [
        "import pandas as pd\n",
        "import cv2\n",
        "import numpy as np\n",
        "from tensorflow.keras.preprocessing.image import ImageDataGenerator"
      ]
    },
    {
      "cell_type": "markdown",
      "metadata": {
        "id": "kTK5MV0pSxFQ"
      },
      "source": [
        "Functions to extract images with their labels"
      ]
    },
    {
      "cell_type": "code",
      "execution_count": 2,
      "metadata": {
        "id": "OvNrb1I7daWd"
      },
      "outputs": [],
      "source": [
        "# Load data from csv files in chunks\n",
        "def load_data(csv):\n",
        "    # usecols: only load Path and Pneumonia columns from csv file\n",
        "    chunks = pd.read_csv(csv, usecols=['Path', 'Pneumonia'], chunksize=100)\n",
        "    dfs = []\n",
        "    for df in chunks:\n",
        "        # remove rows with Pneumonia = NaN\n",
        "        df = df[df['Pneumonia'].notna()]\n",
        "        # remove rows with Pneumonia = -1\n",
        "        df = df[df['Pneumonia'] != -1]\n",
        "        dfs.append(df)\n",
        "    return pd.concat(dfs)\n",
        "\n",
        "# extract image from path\n",
        "def load_image(path, size):\n",
        "    # read image from path\n",
        "    img = cv2.imread(path)\n",
        "    # change color space from gray to RGB\n",
        "    img = cv2.cvtColor(img, cv2.COLOR_BGR2RGB)\n",
        "    # resize image to the desired size\n",
        "    img = cv2.resize(img, (size, size))\n",
        "    return img\n",
        "\n",
        "# extract image and label from dataframe\n",
        "def extract_data(df):\n",
        "    # iterate over dataframe\n",
        "    for index, row in df.iterrows():\n",
        "        # load image from path at both sizes\n",
        "        img_224 = load_image(row['Path'], size=224)\n",
        "        img_256 = load_image(row['Path'], size=256)\n",
        "        # get label\n",
        "        label = row['Pneumonia']\n",
        "        # create generator for both image sizes and label to use less memory and speed up training\n",
        "        yield img_224, img_256, label\n",
        "\n",
        "\n",
        "# call load_data function and give path to csv files\n",
        "train_df_chunks = load_data(\"CheXpert-v1.0-small/train.csv\")\n",
        "valid_df_chunks = load_data(\"CheXpert-v1.0-small/valid.csv\")"
      ]
    },
    {
      "cell_type": "markdown",
      "metadata": {
        "id": "ntQwPgpMSxFd"
      },
      "source": [
        "Imbalanced Classes"
      ]
    },
    {
      "cell_type": "code",
      "execution_count": 3,
      "metadata": {
        "colab": {
          "base_uri": "https://localhost:8080/"
        },
        "id": "KoZldOAYd3ez",
        "outputId": "e32faa43-44a9-46b0-c981-7681ee29a87a"
      },
      "outputs": [
        {
          "data": {
            "text/plain": [
              "(1.0    6039\n",
              " 0.0    2799\n",
              " Name: Pneumonia, dtype: int64,\n",
              " 0.0    226\n",
              " 1.0      8\n",
              " Name: Pneumonia, dtype: int64)"
            ]
          },
          "execution_count": 3,
          "metadata": {},
          "output_type": "execute_result"
        }
      ],
      "source": [
        "# print total number of zero and one labels in train and validation data\n",
        "train_df_chunks['Pneumonia'].value_counts(), valid_df_chunks['Pneumonia'].value_counts()"
      ]
    },
    {
      "cell_type": "markdown",
      "metadata": {
        "id": "x_DTv9LySxFl"
      },
      "source": [
        "Extract Data"
      ]
    },
    {
      "cell_type": "code",
      "execution_count": 4,
      "metadata": {
        "colab": {
          "base_uri": "https://localhost:8080/"
        },
        "id": "hk_jEiZYhjvF",
        "outputId": "c2f27c6a-60ca-4d82-9c07-3b34cfc2074d"
      },
      "outputs": [
        {
          "name": "stdout",
          "output_type": "stream",
          "text": [
            "(8838, 224, 224, 3)\n",
            "(234, 224, 224, 3)\n",
            "(8838, 256, 256, 3)\n",
            "(234, 256, 256, 3)\n",
            "(8838,)\n",
            "(234,)\n"
          ]
        }
      ],
      "source": [
        "# Define generators for train and valid data using extract_data function for 224 and 256 images\n",
        "train_gen = extract_data(train_df_chunks)\n",
        "valid_gen = extract_data(valid_df_chunks)\n",
        "\n",
        "# Extract data and labels using generators for 224 image\n",
        "train_data_224, train_data_256, train_labels = zip(*train_gen)\n",
        "valid_data_224, valid_data_256, valid_labels = zip(*valid_gen)\n",
        "\n",
        "# Convert lists to numpy arrays\n",
        "train_data_224 = np.array(train_data_224)\n",
        "train_data_256 = np.array(train_data_256)\n",
        "train_labels = np.array(train_labels)\n",
        "valid_data_224 = np.array(valid_data_224)\n",
        "valid_data_256 = np.array(valid_data_256)\n",
        "valid_labels = np.array(valid_labels)\n",
        "\n",
        "print(train_data_224.shape)\n",
        "print(valid_data_224.shape)\n",
        "print(train_data_256.shape)\n",
        "print(valid_data_256.shape)\n",
        "print(train_labels.shape)\n",
        "print(valid_labels.shape)"
      ]
    },
    {
      "cell_type": "markdown",
      "metadata": {
        "id": "YU9olspFSxF0"
      },
      "source": [
        "Image Augmentation using Flip, Rotate, Zoom, and Shift"
      ]
    },
    {
      "cell_type": "code",
      "execution_count": 5,
      "metadata": {
        "id": "DSWggxnleKOy"
      },
      "outputs": [],
      "source": [
        "# create function to augment data to balance classes with three arguments: data, labels and batch size\n",
        "def augment_data(data_224, data_256, labels, batch_size):\n",
        "    # Calculate number of zeros and ones\n",
        "    zeros = np.count_nonzero(labels == 0)\n",
        "    ones = np.count_nonzero(labels == 1)\n",
        "    # Calculate difference between zeros and ones\n",
        "    diff = abs(zeros - ones)\n",
        "    # Create ImageDataGenerator object for augmentation\n",
        "    datagen = ImageDataGenerator(\n",
        "        rotation_range=20,\n",
        "        width_shift_range=0.1,\n",
        "        height_shift_range=0.1,\n",
        "        zoom_range=0.2,\n",
        "        horizontal_flip=True,\n",
        "        vertical_flip=True,\n",
        "        fill_mode=\"nearest\"\n",
        "    )\n",
        "    # Check if zeros are more than ones\n",
        "    if zeros > ones:\n",
        "        # Augment ones to balance classes\n",
        "        augment_indices = np.random.choice(np.where(labels == 1)[0], diff)\n",
        "        # Create empty arrays for augmented data\n",
        "        new_data_224 = np.empty((diff, ) + data_224.shape[1:], dtype=data_224.dtype)\n",
        "        new_data_256 = np.empty((diff, ) + data_256.shape[1:], dtype=data_256.dtype)\n",
        "        # Create empty array for augmented labels\n",
        "        new_labels = np.ones(diff, dtype=labels.dtype)\n",
        "        # Iterate over augment_indices\n",
        "        for i, index in enumerate(augment_indices):\n",
        "            # Reshape images to 4D tensors for augmentation\n",
        "            img_224 = data_224[index].reshape((1, ) + data_224[index].shape)\n",
        "            img_256 = data_256[index].reshape((1, ) + data_256[index].shape)\n",
        "            # Generate augmented images\n",
        "            aug_imgs = datagen.flow(img_224, img_256, batch_size=batch_size)\n",
        "            # Append augmented images to data lists\n",
        "            new_data_224[i:i+batch_size] = aug_imgs[0][0]\n",
        "            new_data_256[i:i+batch_size] = aug_imgs[0][1]\n",
        "        # Concatenate augmented data and labels with original data and labels\n",
        "        data_224 = np.concatenate((data_224, new_data_224), axis=0)\n",
        "        data_256 = np.concatenate((data_256, new_data_256), axis=0)\n",
        "        labels = np.concatenate((labels, new_labels), axis=0)\n",
        "    # Check if ones are more than zeros\n",
        "    elif ones > zeros:\n",
        "        # Augment zeros to balance classes\n",
        "        augment_indices = np.random.choice(np.where(labels == 0)[0], diff)\n",
        "        new_data_224 = np.empty((diff, ) + data_224.shape[1:], dtype=data_224.dtype)\n",
        "        new_data_256 = np.empty((diff, ) + data_256.shape[1:], dtype=data_256.dtype)\n",
        "        new_labels = np.zeros(diff, dtype=labels.dtype)\n",
        "        # Iterate over augment_indices\n",
        "        for i, index in enumerate(augment_indices):\n",
        "            # Reshape images to 4D tensors for augmentation\n",
        "            img_224 = data_224[index].reshape((1, ) + data_224[index].shape)\n",
        "            img_256 = data_256[index].reshape((1, ) + data_256[index].shape)\n",
        "            # Generate augmented images\n",
        "            aug_imgs = datagen.flow(img_224, img_256, batch_size=batch_size)\n",
        "            # Append augmented images to data lists\n",
        "            new_data_224[i:i+batch_size] = aug_imgs[0][0]\n",
        "            new_data_256[i:i+batch_size] = aug_imgs[0][1]\n",
        "        # Concatenate augmented data and labels with original data and labels\n",
        "        data_224 = np.concatenate((data_224, new_data_224), axis=0)\n",
        "        data_256 = np.concatenate((data_256, new_data_256), axis=0)\n",
        "        labels = np.concatenate((labels, new_labels), axis=0)\n",
        "    return data_224, data_256, labels\n",
        "\n",
        "# Augment train data and labels with batch size of 16\n",
        "train_data_224, train_data_256, train_labels = augment_data(train_data_224, train_data_256, train_labels, batch_size=16)\n",
        "valid_data_224, valid_data_256, valid_labels = augment_data(valid_data_224, valid_data_256, valid_labels, batch_size=16)"
      ]
    },
    {
      "cell_type": "markdown",
      "metadata": {
        "id": "ZdUo60IISxGA"
      },
      "source": [
        "Shuffle Data"
      ]
    },
    {
      "cell_type": "code",
      "execution_count": 6,
      "metadata": {
        "id": "BCIrgLqGhzpv"
      },
      "outputs": [],
      "source": [
        "# shuffle train and validation data\n",
        "def shuffle_data(data, labels):\n",
        "    # Get number of rows in data\n",
        "    indices = np.arange(len(data))\n",
        "    # Shuffle indices\n",
        "    np.random.shuffle(indices)\n",
        "    # Shuffle data and labels using shuffled indices\n",
        "    data = data[indices]\n",
        "    labels = labels[indices]\n",
        "    return data, labels\n",
        "\n",
        "# Shuffle train data and labels\n",
        "train_data_224, train_labels = shuffle_data(train_data_224, train_labels)\n",
        "valid_data_224, valid_labels = shuffle_data(valid_data_224, valid_labels)"
      ]
    },
    {
      "cell_type": "markdown",
      "metadata": {
        "id": "28CnVvCwSxGG"
      },
      "source": [
        "Balanced Classes"
      ]
    },
    {
      "cell_type": "code",
      "execution_count": 7,
      "metadata": {
        "id": "N2BxeIasiDNb"
      },
      "outputs": [
        {
          "name": "stdout",
          "output_type": "stream",
          "text": [
            "Training data is balanced: (True, 6039, 6039)\n",
            "Validation data is balanced: (True, 226, 226)\n"
          ]
        }
      ],
      "source": [
        "# create function with one argument: array\n",
        "def check_balance(arr):\n",
        "    # Calculate number of zeros and ones\n",
        "    num_zeros = sum(arr == 0)\n",
        "    num_ones = sum(arr == 1)\n",
        "    # Check if zeros and ones are equal\n",
        "    if num_zeros == num_ones:\n",
        "        # Return True if balanced\n",
        "        return True, num_zeros, num_ones\n",
        "    else:\n",
        "        # Return False if not balanced\n",
        "        return False, num_zeros, num_ones\n",
        "\n",
        "# Check if training labels are balanced after augmentation\n",
        "train_balanced = check_balance(train_labels)\n",
        "print(\"Training data is balanced:\", train_balanced)\n",
        "\n",
        "# Check if validation labels are balanced after augmentation\n",
        "valid_balanced = check_balance(valid_labels)\n",
        "print(\"Validation data is balanced:\", valid_balanced)"
      ]
    },
    {
      "cell_type": "markdown",
      "metadata": {
        "id": "x_zxEbvFSxGR"
      },
      "source": [
        "Model MVCNN + VIT"
      ]
    },
    {
      "cell_type": "code",
      "execution_count": 8,
      "metadata": {
        "colab": {
          "base_uri": "https://localhost:8080/"
        },
        "id": "_E72yUdHQZ_L",
        "outputId": "1aa6a16f-485a-4883-bb0c-b865118d1ae5"
      },
      "outputs": [
        {
          "name": "stderr",
          "output_type": "stream",
          "text": [
            "c:\\Users\\hira\\AppData\\Local\\Programs\\Python\\Python310\\lib\\site-packages\\vit_keras\\vit.py:139: UserWarning: Can only use pretrained_top with imagenet21k+imagenet2012 if classes = 1000. Setting manually.\n",
            "  warnings.warn(\n",
            "c:\\Users\\hira\\AppData\\Local\\Programs\\Python\\Python310\\lib\\site-packages\\vit_keras\\utils.py:81: UserWarning: Resizing position embeddings from 24, 24 to 16, 16\n",
            "  warnings.warn(\n"
          ]
        },
        {
          "name": "stdout",
          "output_type": "stream",
          "text": [
            "Model: \"model\"\n",
            "__________________________________________________________________________________________________\n",
            " Layer (type)                   Output Shape         Param #     Connected to                     \n",
            "==================================================================================================\n",
            " input_3 (InputLayer)           [(None, 256, 256, 3  0           []                               \n",
            "                                )]                                                                \n",
            "                                                                                                  \n",
            " vit-b16 (Functional)           (None, 1000)         86613736    ['input_3[0][0]']                \n",
            "                                                                                                  \n",
            " flatten (Flatten)              (None, 1000)         0           ['vit-b16[0][0]']                \n",
            "                                                                                                  \n",
            " input_1 (InputLayer)           [(None, 224, 224, 3  0           []                               \n",
            "                                )]                                                                \n",
            "                                                                                                  \n",
            " input_2 (InputLayer)           [(None, 224, 224, 3  0           []                               \n",
            "                                )]                                                                \n",
            "                                                                                                  \n",
            " dense (Dense)                  (None, 2)            2002        ['flatten[0][0]']                \n",
            "                                                                                                  \n",
            "==================================================================================================\n",
            "Total params: 86,615,738\n",
            "Trainable params: 86,615,738\n",
            "Non-trainable params: 0\n",
            "__________________________________________________________________________________________________\n"
          ]
        }
      ],
      "source": [
        "import tensorflow as tf\n",
        "from tensorflow.keras.layers import Input, Conv2D, MaxPooling2D, Flatten, Dense, GlobalMaxPooling2D\n",
        "from vit_keras import vit\n",
        "\n",
        "# Define CNN 1 layers with input shape of 224x224x3\n",
        "cnn_input1 = Input(shape=(224, 224, 3))\n",
        "# Create 3 convolutional layers with 32, 64 and 128 filters respectively and kernel size of 3x3 and activation function of relu\n",
        "# Create 3 max pooling layers with pool size of 2x2\n",
        "cnn_layer1 = Conv2D(filters=32, kernel_size=3, activation='relu')(cnn_input1)\n",
        "cnn_layer1 = MaxPooling2D(pool_size=2)(cnn_layer1)\n",
        "cnn_layer1 = Conv2D(filters=64, kernel_size=3, activation='relu')(cnn_layer1)\n",
        "cnn_layer1 = MaxPooling2D(pool_size=2)(cnn_layer1)\n",
        "cnn_layer1 = Conv2D(filters=128, kernel_size=3, activation='relu')(cnn_layer1)\n",
        "cnn_layer1 = MaxPooling2D(pool_size=2)(cnn_layer1)\n",
        "\n",
        "# Define CNN 2 layers with input shape of 224x224x3\n",
        "cnn_input2 = Input(shape=(224, 224, 3))\n",
        "# Create 3 convolutional layers with 32, 64 and 128 filters respectively and kernel size of 3x3 and activation function of relu\n",
        "# Create 3 max pooling layers with pool size of 2x2\n",
        "cnn_layer2 = Conv2D(filters=32, kernel_size=3, activation='relu')(cnn_input2)\n",
        "cnn_layer2 = MaxPooling2D(pool_size=2)(cnn_layer2)\n",
        "cnn_layer2 = Conv2D(filters=64, kernel_size=3, activation='relu')(cnn_layer2)\n",
        "cnn_layer2 = MaxPooling2D(pool_size=2)(cnn_layer2)\n",
        "cnn_layer2 = Conv2D(filters=128, kernel_size=3, activation='relu')(cnn_layer2)\n",
        "cnn_layer2 = MaxPooling2D(pool_size=2)(cnn_layer2)\n",
        "\n",
        "# Concatenate CNN Model 1 and CNN Model 2 layers\n",
        "concat_layer = tf.keras.layers.Concatenate()([cnn_layer1, cnn_layer2])\n",
        "\n",
        "# Pooling layer to reduce dimensionality\n",
        "pooled = GlobalMaxPooling2D()(concat_layer)\n",
        "# Define ViT layers with input shape of 224x224x3\n",
        "vit_input = Input(shape=(pooled.shape[1], 256, 3))  # change the last dimension to 3\n",
        "# Create ViT model with pretrained weights\n",
        "vit_layer1 = vit.vit_b16(\n",
        "    image_size=256,\n",
        "    classes=2,\n",
        "    activation='sigmoid',\n",
        "    pretrained=True,\n",
        "    include_top=True,\n",
        ")(vit_input)\n",
        "flatten = Flatten()(vit_layer1)\n",
        "# Create final output layer with 2 classes and sigmoid activation function\n",
        "output = Dense(units=2, activation='sigmoid')(flatten)\n",
        "# Define the model\n",
        "model = tf.keras.models.Model(inputs=[cnn_input1, cnn_input2, vit_input], outputs=output)\n",
        "# Compile the model with binary crossentropy loss, Adam optimizer and accuracy metric\n",
        "model.compile(loss=\"binary_crossentropy\", optimizer=tf.keras.optimizers.Adam(0.0001), metrics=[\"accuracy\"])\n",
        "# Print model summary\n",
        "model.summary()"
      ]
    },
    {
      "cell_type": "markdown",
      "metadata": {
        "id": "uAtvUJVtSxGb"
      },
      "source": [
        "Model Plotting"
      ]
    },
    {
      "cell_type": "code",
      "execution_count": 9,
      "metadata": {
        "colab": {
          "base_uri": "https://localhost:8080/"
        },
        "id": "nT_Idu4mSxGf",
        "outputId": "4085c0f1-5a7c-4133-b2b5-b35580e1f6f2"
      },
      "outputs": [
        {
          "name": "stdout",
          "output_type": "stream",
          "text": [
            "Requirement already satisfied: pydot in c:\\users\\hira\\appdata\\local\\programs\\python\\python310\\lib\\site-packages (1.4.2)\n",
            "Requirement already satisfied: pyparsing>=2.1.4 in c:\\users\\hira\\appdata\\local\\programs\\python\\python310\\lib\\site-packages (from pydot) (3.0.9)\n",
            "Requirement already satisfied: pydotplus in c:\\users\\hira\\appdata\\local\\programs\\python\\python310\\lib\\site-packages (2.0.2)\n",
            "Requirement already satisfied: pyparsing>=2.0.1 in c:\\users\\hira\\appdata\\local\\programs\\python\\python310\\lib\\site-packages (from pydotplus) (3.0.9)\n",
            "Requirement already satisfied: graphviz in c:\\users\\hira\\appdata\\local\\programs\\python\\python310\\lib\\site-packages (0.20.1)\n"
          ]
        }
      ],
      "source": [
        "# Install libraries for model Plotting\n",
        "!pip install pydot\n",
        "!pip install pydotplus \n",
        "!pip install graphviz"
      ]
    },
    {
      "cell_type": "code",
      "execution_count": 10,
      "metadata": {
        "colab": {
          "base_uri": "https://localhost:8080/",
          "height": 422
        },
        "id": "t9KBLQ9hckoZ",
        "outputId": "6f87b65b-4a0c-46de-d365-c971f44a3dec"
      },
      "outputs": [
        {
          "name": "stdout",
          "output_type": "stream",
          "text": [
            "You must install pydot (`pip install pydot`) and install graphviz (see instructions at https://graphviz.gitlab.io/download/) for plot_model to work.\n"
          ]
        }
      ],
      "source": [
        "# Import libraries for model plotting\n",
        "from keras.utils.vis_utils import plot_model\n",
        "# Plot model\n",
        "plot_model(model, to_file='model_plot.png', show_shapes=True, show_layer_names=True)"
      ]
    },
    {
      "cell_type": "markdown",
      "metadata": {
        "id": "2GrbygwaSxGo"
      },
      "source": [
        "Labels are set with 0, 1 category"
      ]
    },
    {
      "cell_type": "code",
      "execution_count": 11,
      "metadata": {
        "colab": {
          "base_uri": "https://localhost:8080/"
        },
        "id": "JCbS0RmcyIo-",
        "outputId": "e00f88be-b76c-4d74-e267-f61afbd3abae"
      },
      "outputs": [
        {
          "data": {
            "text/plain": [
              "((12078, 2), (452, 2))"
            ]
          },
          "execution_count": 11,
          "metadata": {},
          "output_type": "execute_result"
        }
      ],
      "source": [
        "# convert labels to set of 0 and 1 \n",
        "from keras.utils import to_categorical\n",
        "\n",
        "# One-hot encode the labels\n",
        "train_labels_one_hot = to_categorical(train_labels)\n",
        "valid_labels_one_hot = to_categorical(valid_labels)\n",
        "train_labels_one_hot.shape, valid_labels_one_hot.shape"
      ]
    },
    {
      "cell_type": "markdown",
      "metadata": {
        "id": "5Ar7p0QzSxGt"
      },
      "source": [
        "Model Training"
      ]
    },
    {
      "cell_type": "code",
      "execution_count": 12,
      "metadata": {
        "colab": {
          "base_uri": "https://localhost:8080/"
        },
        "id": "dUhUNJuUQaHP",
        "outputId": "1d694f94-e543-4543-a482-d043d857ee4e"
      },
      "outputs": [
        {
          "name": "stdout",
          "output_type": "stream",
          "text": [
            "Epoch 1/2\n",
            " 254/3020 [=>............................] - ETA: 11:17:57 - loss: 0.7085 - accuracy: 0.5089"
          ]
        }
      ],
      "source": [
        "# Train the model with list of data because model has 3 inputs\n",
        "history = model.fit([train_data_224, train_data_224, train_data_256], train_labels_one_hot, epochs=2, batch_size=4, \n",
        "                    validation_data=([valid_data_224, valid_data_224, valid_data_256], valid_labels_one_hot))"
      ]
    },
    {
      "cell_type": "code",
      "execution_count": null,
      "metadata": {
        "id": "hHfluSAEz7qK"
      },
      "outputs": [],
      "source": [
        "# save model after training into disk\n",
        "model.save('model.h5')"
      ]
    },
    {
      "cell_type": "markdown",
      "metadata": {
        "id": "N0xo63VDSxGy"
      },
      "source": [
        "ROC Curve"
      ]
    },
    {
      "cell_type": "code",
      "execution_count": null,
      "metadata": {
        "id": "4ImArK6kuHTa"
      },
      "outputs": [],
      "source": [
        "# plot the training and validation accuracy and loss at each epoch\n",
        "from sklearn.metrics import roc_curve, auc\n",
        "import matplotlib.pyplot as plt\n",
        "\n",
        "# Evaluate model on validation set\n",
        "loss, accuracy = model.evaluate([valid_data, valid_data, valid_data256], valid_labels_one_hot)\n",
        "\n",
        "# Get predicted probabilities for each class\n",
        "probs = model.predict([valid_data, valid_data, valid_data256])\n",
        "\n",
        "# Calculate False Positive Rate, True Positive Rate, and thresholds for the positive class\n",
        "fpr, tpr, thresholds = roc_curve(valid_labels_one_hot[:, 1], probs[:, 1])\n",
        "roc_auc = auc(fpr, tpr)\n",
        "\n",
        "# Plot ROC curve\n",
        "plt.plot(fpr, tpr, color='darkorange', label='ROC curve (area = %0.2f)' % roc_auc)\n",
        "plt.plot([0, 1], [0, 1], color='navy', linestyle='--')\n",
        "plt.xlim([0.0, 1.0])\n",
        "plt.ylim([0.0, 1.05])\n",
        "plt.xlabel('False Positive Rate')\n",
        "plt.ylabel('True Positive Rate')\n",
        "plt.title('Receiver Operating Characteristic Curve')\n",
        "plt.legend(loc=\"lower right\")\n",
        "plt.show()"
      ]
    },
    {
      "cell_type": "code",
      "execution_count": null,
      "metadata": {
        "id": "NluBMGBozSt7"
      },
      "outputs": [],
      "source": []
    }
  ],
  "metadata": {
    "accelerator": "GPU",
    "colab": {
      "provenance": []
    },
    "gpuClass": "standard",
    "kernelspec": {
      "display_name": "Python 3",
      "name": "python3"
    },
    "language_info": {
      "codemirror_mode": {
        "name": "ipython",
        "version": 3
      },
      "file_extension": ".py",
      "mimetype": "text/x-python",
      "name": "python",
      "nbconvert_exporter": "python",
      "pygments_lexer": "ipython3",
      "version": "3.10.2"
    }
  },
  "nbformat": 4,
  "nbformat_minor": 0
}
