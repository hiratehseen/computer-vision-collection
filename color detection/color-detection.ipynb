{
  "cells": [
    {
      "cell_type": "code",
      "execution_count": 1,
      "metadata": {
        "colab": {
          "base_uri": "https://localhost:8080/",
          "height": 529
        },
        "id": "qyxZGCDyV6Ya",
        "outputId": "550a6bbf-6923-4a8e-908a-b7f520e339fc"
      },
      "outputs": [
        {
          "name": "stdout",
          "output_type": "stream",
          "text": [
            "Image saved successfully at: ./output_image.jpg\n"
          ]
        }
      ],
      "source": [
        "import cv2\n",
        "import numpy as np\n",
        "import os\n",
        "\n",
        "def detect_colors(image):\n",
        "    # Convert the image to the HSV color space\n",
        "    hsv_image = cv2.cvtColor(image, cv2.COLOR_BGR2HSV)\n",
        "\n",
        "    # Define color ranges for detection (here, we detect red, green, and blue)\n",
        "    lower_red = np.array([0, 100, 100])\n",
        "    upper_red = np.array([10, 255, 255])\n",
        "    lower_green = np.array([40, 100, 100])\n",
        "    upper_green = np.array([80, 255, 255])\n",
        "    lower_blue = np.array([100, 100, 100])\n",
        "    upper_blue = np.array([140, 255, 255])\n",
        "\n",
        "    # Create masks for each color\n",
        "    mask_red = cv2.inRange(hsv_image, lower_red, upper_red)\n",
        "    mask_green = cv2.inRange(hsv_image, lower_green, upper_green)\n",
        "    mask_blue = cv2.inRange(hsv_image, lower_blue, upper_blue)\n",
        "\n",
        "    # Find contours in each mask\n",
        "    contours_red, _ = cv2.findContours(mask_red, cv2.RETR_EXTERNAL, cv2.CHAIN_APPROX_SIMPLE)\n",
        "    contours_green, _ = cv2.findContours(mask_green, cv2.RETR_EXTERNAL, cv2.CHAIN_APPROX_SIMPLE)\n",
        "    contours_blue, _ = cv2.findContours(mask_blue, cv2.RETR_EXTERNAL, cv2.CHAIN_APPROX_SIMPLE)\n",
        "\n",
        "    # Draw contours and label colors on the image\n",
        "    cv2.drawContours(image, contours_red, -1, (0, 0, 255), 2)\n",
        "    cv2.drawContours(image, contours_green, -1, (0, 255, 0), 2)\n",
        "    cv2.drawContours(image, contours_blue, -1, (255, 0, 0), 2)\n",
        "\n",
        "    # Define color labels\n",
        "    color_labels = {\n",
        "        'red': (0, 0, 255),\n",
        "        'green': (0, 255, 0),\n",
        "        'blue': (255, 0, 0)\n",
        "    }\n",
        "\n",
        "    # Add labels for each detected color\n",
        "    for contour in contours_red:\n",
        "        moments = cv2.moments(contour)\n",
        "        if moments['m00'] != 0:\n",
        "            centroid_x = int(moments['m10'] / moments['m00'])\n",
        "            centroid_y = int(moments['m01'] / moments['m00'])\n",
        "            cv2.putText(image, 'Red', (centroid_x, centroid_y), cv2.FONT_HERSHEY_SIMPLEX, 0.5, color_labels['red'], 2)\n",
        "    for contour in contours_green:\n",
        "        moments = cv2.moments(contour)\n",
        "        if moments['m00'] != 0:\n",
        "            centroid_x = int(moments['m10'] / moments['m00'])\n",
        "            centroid_y = int(moments['m01'] / moments['m00'])\n",
        "            cv2.putText(image, 'Green', (centroid_x, centroid_y), cv2.FONT_HERSHEY_SIMPLEX, 0.5, color_labels['green'], 2)\n",
        "    for contour in contours_blue:\n",
        "        moments = cv2.moments(contour)\n",
        "        if moments['m00'] != 0:\n",
        "            centroid_x = int(moments['m10'] / moments['m00'])\n",
        "            centroid_y = int(moments['m01'] / moments['m00'])\n",
        "            cv2.putText(image, 'Blue', (centroid_x, centroid_y), cv2.FONT_HERSHEY_SIMPLEX, 0.5, color_labels['blue'], 2)\n",
        "\n",
        "    # Display the resulting image\n",
        "    cv2.imshow('Color Detection',image)\n",
        "    cv2.waitKey(0)\n",
        "    cv2.destroyAllWindows()\n",
        "\n",
        "    # Save the image to a folder\n",
        "    output_folder = \"./\"\n",
        "    os.makedirs(output_folder, exist_ok=True)\n",
        "    output_path = os.path.join(output_folder, \"output_image.jpg\")\n",
        "    cv2.imwrite(output_path, image)\n",
        "    print(\"Image saved successfully at:\", output_path)\n",
        "\n",
        "# Load the image\n",
        "image = cv2.imread(\"image0052.jpeg\")\n",
        "\n",
        "# Perform color detection\n",
        "detect_colors(image)\n"
      ]
    },
    {
      "cell_type": "code",
      "execution_count": null,
      "metadata": {
        "id": "QV5v-4SWWbVZ"
      },
      "outputs": [],
      "source": []
    }
  ],
  "metadata": {
    "colab": {
      "provenance": []
    },
    "kernelspec": {
      "display_name": "Python 3",
      "name": "python3"
    },
    "language_info": {
      "codemirror_mode": {
        "name": "ipython",
        "version": 3
      },
      "file_extension": ".py",
      "mimetype": "text/x-python",
      "name": "python",
      "nbconvert_exporter": "python",
      "pygments_lexer": "ipython3",
      "version": "3.10.2"
    }
  },
  "nbformat": 4,
  "nbformat_minor": 0
}
