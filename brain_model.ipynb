{
  "cells": [
    {
      "cell_type": "markdown",
      "metadata": {
        "id": "hazuIhcojhdm"
      },
      "source": [
        "## Import Libraries"
      ]
    },
    {
      "cell_type": "code",
      "source": [
        "from google.colab import drive\n",
        "drive.mount('/content/drive')"
      ],
      "metadata": {
        "id": "AdkD-EfnjnuA",
        "colab": {
          "base_uri": "https://localhost:8080/"
        },
        "outputId": "4c966a4b-c171-42b1-fbf9-4e20d75babd5"
      },
      "execution_count": 1,
      "outputs": [
        {
          "output_type": "stream",
          "name": "stdout",
          "text": [
            "Drive already mounted at /content/drive; to attempt to forcibly remount, call drive.mount(\"/content/drive\", force_remount=True).\n"
          ]
        }
      ]
    },
    {
      "cell_type": "code",
      "execution_count": 2,
      "metadata": {
        "id": "6Z84XdATjhd4"
      },
      "outputs": [],
      "source": [
        "from matplotlib.pyplot import imshow\n",
        "import matplotlib.cm as cm\n",
        "import matplotlib.pylab as plt\n",
        "from keras.preprocessing.image import ImageDataGenerator\n",
        "import numpy as np\n",
        "import PIL\n",
        "from PIL import ImageFilter\n",
        "import cv2\n",
        "import itertools\n",
        "import random\n",
        "import keras\n",
        "from keras import utils as np_utils\n",
        "import tensorflow as tf\n",
        "import imutils\n",
        "from imutils import paths\n",
        "import os\n",
        "from keras import optimizers\n",
        "from tensorflow.keras.utils import img_to_array\n",
        "from sklearn.model_selection import train_test_split\n",
        "from tensorflow.keras.utils import to_categorical\n",
        "from keras import callbacks\n",
        "from keras.models import Sequential\n",
        "from keras.layers import Dense, Dropout, Flatten, BatchNormalization, ZeroPadding2D\n",
        "from keras.layers import Conv2D, MaxPooling2D , UpSampling2D , Conv1D, MaxPooling1D, UpSampling1D\n",
        "from keras import backend as K\n",
        "import pandas as pd\n",
        "# %matplotlib inline"
      ]
    },
    {
      "cell_type": "code",
      "execution_count": 4,
      "metadata": {
        "id": "4tWcvEAPjhd_"
      },
      "outputs": [],
      "source": [
        "def pil_image(img_path):\n",
        "    # convert image into gray scale\n",
        "    pil_im =PIL.Image.open(img_path).convert('L')\n",
        "    pil_im=pil_im.resize((105,105))\n",
        "    #imshow(np.asarray(pil_im))\n",
        "    return pil_im"
      ]
    },
    {
      "cell_type": "markdown",
      "metadata": {
        "id": "XD2Odr_bjheB"
      },
      "source": [
        "## Augumentation Steps\n",
        "1) Noise 2) Blur 3) Perpective Rotation 4) Shading 5) Variable Character Spacing 6) Variable Aspect Ratio"
      ]
    },
    {
      "cell_type": "code",
      "execution_count": 5,
      "metadata": {
        "id": "_80c3yrvjheC"
      },
      "outputs": [],
      "source": [
        "def noise_image(pil_im):\n",
        "    # Adding Noise to image\n",
        "    img_array = np.asarray(pil_im)\n",
        "    mean = 0.0   # some constant\n",
        "    std = 5   # some constant (standard deviation)\n",
        "    noisy_img = img_array + np.random.normal(mean, std, img_array.shape)\n",
        "    noisy_img_clipped = np.clip(noisy_img, 0, 255)\n",
        "    noise_img = PIL.Image.fromarray(np.uint8(noisy_img_clipped)) # output\n",
        "    #imshow((noisy_img_clipped ).astype(np.uint8))\n",
        "    noise_img=noise_img.resize((105,105))\n",
        "    return noise_img"
      ]
    },
    {
      "cell_type": "code",
      "execution_count": 6,
      "metadata": {
        "id": "GQwNla5mjheD"
      },
      "outputs": [],
      "source": [
        "def blur_image(pil_im):\n",
        "    #Adding Blur to image\n",
        "    blur_img = pil_im.filter(ImageFilter.GaussianBlur(radius=3)) # ouput\n",
        "    #imshow(blur_img)\n",
        "    blur_img=blur_img.resize((105,105))\n",
        "    return blur_img"
      ]
    },
    {
      "cell_type": "code",
      "execution_count": 7,
      "metadata": {
        "id": "Zcrc6i6bjheF"
      },
      "outputs": [],
      "source": [
        "def affine_rotation(img):\n",
        "\n",
        "    #img=cv2.imread(img_path,0)\n",
        "    rows, columns = img.shape\n",
        "\n",
        "    point1 = np.float32([[10, 10], [30, 10], [10, 30]])\n",
        "    point2 = np.float32([[20, 15], [40, 10], [20, 40]])\n",
        "\n",
        "    A = cv2.getAffineTransform(point1, point2)\n",
        "\n",
        "    output = cv2.warpAffine(img, A, (columns, rows))\n",
        "    affine_img = PIL.Image.fromarray(np.uint8(output)) # affine rotated output\n",
        "    #imshow(output)\n",
        "    affine_img=affine_img.resize((105,105))\n",
        "    return affine_img"
      ]
    },
    {
      "cell_type": "code",
      "execution_count": 21,
      "metadata": {
        "id": "Kmas4zOLjheI"
      },
      "outputs": [],
      "source": [
        "def gradient_fill(image):\n",
        "    #image=cv2.imread(img_path,0)\n",
        "    laplacian = cv2.Laplacian(image,cv2.CV_64F)\n",
        "    laplacian = cv2.resize(laplacian, (105, 105))\n",
        "    return laplacian"
      ]
    },
    {
      "cell_type": "markdown",
      "metadata": {
        "id": "C7lmLDtojheK"
      },
      "source": [
        "## Preparing Dataset"
      ]
    },
    {
      "cell_type": "code",
      "execution_count": 22,
      "metadata": {
        "id": "Pws2tAjBjheL"
      },
      "outputs": [],
      "source": [
        "data_path = \"/content/drive/MyDrive/master/augmented data\"\n",
        "data=[]\n",
        "labels=[]\n",
        "imagePaths = sorted(list(paths.list_images(data_path)))\n",
        "random.seed(42)\n",
        "random.shuffle(imagePaths)"
      ]
    },
    {
      "cell_type": "code",
      "execution_count": 23,
      "metadata": {
        "id": "tynVZRjNjheO"
      },
      "outputs": [],
      "source": [
        "def conv_label(label):\n",
        "    if label == 'no':\n",
        "        return 0\n",
        "    elif label == 'yes':\n",
        "        return 1"
      ]
    },
    {
      "cell_type": "code",
      "execution_count": 24,
      "metadata": {
        "id": "_Xl0OTa9jheP",
        "colab": {
          "base_uri": "https://localhost:8080/"
        },
        "outputId": "613b471c-b3b4-45e0-c706-389eeb0741a4"
      },
      "outputs": [
        {
          "output_type": "stream",
          "name": "stdout",
          "text": [
            "['blur', 'noise', 'affine', 'gradient']\n",
            "910\n"
          ]
        }
      ],
      "source": [
        "augument=[\"blur\",\"noise\",\"affine\",\"gradient\"]\n",
        "a=itertools.combinations(augument, 4)\n",
        "\n",
        "for i in list(a):\n",
        "    print(list(i))\n",
        "\n",
        "print(len(imagePaths))"
      ]
    },
    {
      "cell_type": "code",
      "execution_count": 25,
      "metadata": {
        "id": "UFauffuSjheR",
        "colab": {
          "base_uri": "https://localhost:8080/",
          "height": 35
        },
        "outputId": "f5c68f7f-0f30-461d-a5a6-441d29d711b3"
      },
      "outputs": [
        {
          "output_type": "execute_result",
          "data": {
            "text/plain": [
              "'no'"
            ],
            "application/vnd.google.colaboratory.intrinsic+json": {
              "type": "string"
            }
          },
          "metadata": {},
          "execution_count": 25
        }
      ],
      "source": [
        "imagePaths[0].split(os.path.sep)[-2]"
      ]
    },
    {
      "cell_type": "markdown",
      "source": [
        "## Augment Function for Images"
      ],
      "metadata": {
        "id": "cr-WRZxJdL-f"
      }
    },
    {
      "cell_type": "code",
      "execution_count": 26,
      "metadata": {
        "id": "zHCd5ArljheS",
        "colab": {
          "base_uri": "https://localhost:8080/",
          "height": 451
        },
        "outputId": "ffd4bd31-320f-4773-971e-fb8ca1ba9770"
      },
      "outputs": [
        {
          "output_type": "stream",
          "name": "stdout",
          "text": [
            "14560\n"
          ]
        },
        {
          "output_type": "display_data",
          "data": {
            "text/plain": [
              "<Figure size 640x480 with 1 Axes>"
            ],
            "image/png": "[encoded data removed]"
          },
          "metadata": {}
        }
      ],
      "source": [
        "counter=0\n",
        "for imagePath in imagePaths:\n",
        "    label = imagePath.split(os.path.sep)[-2]\n",
        "    label = conv_label(label)\n",
        "    pil_img = pil_image(imagePath)\n",
        "    imshow(pil_img)\n",
        "\n",
        "    # Adding original image\n",
        "    org_img = img_to_array(pil_img)\n",
        "    #print(org_img.shape)\n",
        "    data.append(org_img)\n",
        "    labels.append(label)\n",
        "\n",
        "    augument=[\"noise\",\"blur\",\"affine\",\"gradient\"]\n",
        "    for l in range(0,len(augument)):\n",
        "\n",
        "        a=itertools.combinations(augument, l+1)\n",
        "\n",
        "        for i in list(a):\n",
        "            combinations=list(i)\n",
        "            #print(len(combinations))\n",
        "            temp_img = pil_img\n",
        "            for j in combinations:\n",
        "\n",
        "                if j == 'noise':\n",
        "                    # Adding Noise image\n",
        "                    temp_img = noise_image(temp_img)\n",
        "\n",
        "                elif j == 'blur':\n",
        "                    # Adding Blur image\n",
        "                    temp_img = blur_image(temp_img)\n",
        "                    #imshow(blur_img)\n",
        "\n",
        "                elif j == 'affine':\n",
        "                    open_cv_affine = np.array(pil_img)\n",
        "                    # Adding affine rotation image\n",
        "                    temp_img = affine_rotation(open_cv_affine)\n",
        "\n",
        "                elif j == 'gradient':\n",
        "                    open_cv_gradient = np.array(pil_img)\n",
        "                    # Adding gradient image\n",
        "                    temp_img = gradient_fill(open_cv_gradient)\n",
        "\n",
        "            temp_img = img_to_array(temp_img)\n",
        "            data.append(temp_img)\n",
        "            labels.append(label)\n",
        "\n",
        "print(len(data))"
      ]
    },
    {
      "cell_type": "code",
      "execution_count": 27,
      "metadata": {
        "id": "meFknBBFjheS",
        "colab": {
          "base_uri": "https://localhost:8080/"
        },
        "outputId": "25c7e9a7-94c1-410c-83df-510fa10aeb40"
      },
      "outputs": [
        {
          "output_type": "stream",
          "name": "stdout",
          "text": [
            "Success\n"
          ]
        }
      ],
      "source": [
        "data = np.asarray(data, dtype=\"int\") / 255.0\n",
        "labels = np.array(labels)\n",
        "print(\"Success\")"
      ]
    },
    {
      "cell_type": "code",
      "execution_count": 28,
      "metadata": {
        "id": "GHTQj7TJjheT",
        "colab": {
          "base_uri": "https://localhost:8080/"
        },
        "outputId": "22be2edf-cb49-46d5-b0b6-f9347261cb68"
      },
      "outputs": [
        {
          "output_type": "execute_result",
          "data": {
            "text/plain": [
              "array([0, 0, 0, ..., 1, 1, 1])"
            ]
          },
          "metadata": {},
          "execution_count": 28
        }
      ],
      "source": [
        "labels"
      ]
    },
    {
      "cell_type": "code",
      "execution_count": 29,
      "metadata": {
        "id": "qveBRv6mjheT",
        "colab": {
          "base_uri": "https://localhost:8080/"
        },
        "outputId": "9be60bb6-57a8-4bd0-ce81-4b87f55dc8ae"
      },
      "outputs": [
        {
          "output_type": "stream",
          "name": "stdout",
          "text": [
            "[[1. 0.]\n",
            " [0. 1.]\n",
            " [1. 0.]\n",
            " ...\n",
            " [1. 0.]\n",
            " [1. 0.]\n",
            " [1. 0.]]\n",
            "[[0. 1.]\n",
            " [1. 0.]\n",
            " [1. 0.]\n",
            " ...\n",
            " [0. 1.]\n",
            " [0. 1.]\n",
            " [1. 0.]]\n"
          ]
        }
      ],
      "source": [
        "# partition the data into training and testing splits using 75% of\n",
        "# the data for training and the remaining 25% for testing\n",
        "(trainX, testX, trainY, testY) =  train_test_split(data,labels, test_size=0.25, random_state=42)\n",
        "# convert the labels from integers to vectors\n",
        "try:\n",
        "    trainY = to_categorical(trainY, num_classes=2) ## input of to_categorial is class vector of integers\n",
        "    print(trainY)\n",
        "except Exception as ex:\n",
        "    trainY = None\n",
        "    print(ex)\n",
        "try:\n",
        "    testY = to_categorical(testY, num_classes=2)\n",
        "    print(testY)\n",
        "except Exception as ex:\n",
        "    testY = None\n",
        "    print(ex)"
      ]
    },
    {
      "cell_type": "code",
      "source": [
        "print(trainY.shape, trainX.shape)\n",
        "print(testY.shape, testX.shape)"
      ],
      "metadata": {
        "id": "DdDVE_BCgGpb",
        "colab": {
          "base_uri": "https://localhost:8080/"
        },
        "outputId": "2024c96b-fab4-469f-cd89-07ca8aada813"
      },
      "execution_count": 30,
      "outputs": [
        {
          "output_type": "stream",
          "name": "stdout",
          "text": [
            "(10920, 2) (10920, 105, 105, 1)\n",
            "(3640, 2) (3640, 105, 105, 1)\n"
          ]
        }
      ]
    },
    {
      "cell_type": "code",
      "execution_count": 31,
      "metadata": {
        "id": "s_AuLxyJjheU"
      },
      "outputs": [],
      "source": [
        "aug = ImageDataGenerator(rotation_range=30, width_shift_range=0.1,height_shift_range=0.1, shear_range=0.2, zoom_range=0.2,horizontal_flip=True)"
      ]
    },
    {
      "cell_type": "markdown",
      "metadata": {
        "id": "zh-N-w-ZjheU"
      },
      "source": [
        "## LPQ Feature Calculation"
      ]
    },
    {
      "cell_type": "code",
      "execution_count": 32,
      "metadata": {
        "id": "KiBpX_xSjheU"
      },
      "outputs": [],
      "source": [
        "from scipy.signal import convolve2d\n",
        "\n",
        "class LPQ(object):\n",
        "    \"\"\" This implementation of Local Phase Quantization (LPQ) is a\n",
        "\n",
        "      Reference:\n",
        "        Ojansivu V & Heikkilä J (2008) Blur insensitive texture classification\n",
        "        using local phase quantization. Proc. Image and Signal Processing\n",
        "\t(ICISP 2008), Cherbourg-Octeville, France, 5099:236-243.\n",
        "        Copyright 2008 by Heikkilä & Ojansivu\n",
        "    \"\"\"\n",
        "\n",
        "    def __init__(self, radius=3):\n",
        "        self.radius = radius\n",
        "\n",
        "    def euc_dist(self, X):\n",
        "        Y = X = X.astype(np.int32)\n",
        "        XX = np.sum(X * X, axis=1)[:, np.newaxis]\n",
        "        YY = XX.T\n",
        "        distances = np.dot(X,Y.T)\n",
        "        distances *= -2\n",
        "        distances += XX\n",
        "        distances += YY\n",
        "        np.maximum(distances, 0, distances)\n",
        "        distances.flat[::distances.shape[0] + 1] = 0.0\n",
        "        return np.sqrt(distances)\n",
        "\n",
        "    def __call__(self,X):\n",
        "        f = 1.0\n",
        "        x = np.arange(-self.radius,self.radius+1)\n",
        "        n = len(x)\n",
        "        rho = 0.95\n",
        "        [xp, yp] = np.meshgrid(np.arange(1,(n+1)),np.arange(1,(n+1)))\n",
        "        pp = np.concatenate((xp,yp)).reshape(2,-1)\n",
        "        dd = self.euc_dist(pp.T) # squareform(pdist(...)) would do the job, too...\n",
        "        C = np.power(rho,dd)\n",
        "\n",
        "        w0 = (x*0.0+1.0)\n",
        "        w1 = np.exp(-2*np.pi*1j*x*f/n)\n",
        "        w2 = np.conj(w1)\n",
        "\n",
        "        q1 = w0.reshape(-1,1)*w1\n",
        "        q2 = w1.reshape(-1,1)*w0\n",
        "        q3 = w1.reshape(-1,1)*w1\n",
        "        q4 = w1.reshape(-1,1)*w2\n",
        "\n",
        "        u1 = np.real(q1)\n",
        "        u2 = np.imag(q1)\n",
        "        u3 = np.real(q2)\n",
        "        u4 = np.imag(q2)\n",
        "        u5 = np.real(q3)\n",
        "        u6 = np.imag(q3)\n",
        "        u7 = np.real(q4)\n",
        "        u8 = np.imag(q4)\n",
        "\n",
        "        M = np.matrix([u1.flatten(), u2.flatten(), u3.flatten(), u4.flatten(), u5.flatten(), u6.flatten(), u7.flatten(), u8.flatten()])\n",
        "\n",
        "        D = np.dot(np.dot(M,C), M.T)\n",
        "        U,S,V = np.linalg.svd(D)\n",
        "\n",
        "        Qa = convolve2d(convolve2d(X,w0.reshape(-1,1),mode='same'),w1.reshape(1,-1),mode='same')\n",
        "        Qb = convolve2d(convolve2d(X,w1.reshape(-1,1),mode='same'),w0.reshape(1,-1),mode='same')\n",
        "        Qc = convolve2d(convolve2d(X,w1.reshape(-1,1),mode='same'),w1.reshape(1,-1),mode='same')\n",
        "        Qd = convolve2d(convolve2d(X, w1.reshape(-1,1),mode='same'),w2.reshape(1,-1),mode='same')\n",
        "\n",
        "        Fa = np.real(Qa)\n",
        "        Ga = np.imag(Qa)\n",
        "        Fb = np.real(Qb)\n",
        "        Gb = np.imag(Qb)\n",
        "        Fc = np.real(Qc)\n",
        "        Gc = np.imag(Qc)\n",
        "        Fd = np.real(Qd)\n",
        "        Gd = np.imag(Qd)\n",
        "\n",
        "        F = np.array([Fa.flatten(), Ga.flatten(), Fb.flatten(), Gb.flatten(), Fc.flatten(), Gc.flatten(), Fd.flatten(), Gd.flatten()])\n",
        "        G = np.dot(V.T, F)\n",
        "\n",
        "        t = 0\n",
        "\n",
        "        # Calculate the LPQ Patterns:\n",
        "        B = (G[0,:]>=t)*1 + (G[1,:]>=t)*2 + (G[2,:]>=t)*4 + (G[3,:]>=t)*8 + (G[4,:]>=t)*16 + (G[5,:]>=t)*32 + (G[6,:]>=t)*64 + (G[7,:]>=t)*128\n",
        "        B = np.reshape(B, np.shape(Fa))\n",
        "\n",
        "        # And finally build the histogram:\n",
        "        h, b  = np.histogram(B, bins=256, range = (0,255))\n",
        "\n",
        "        return h\n",
        "\n",
        "    def __repr__(self):\n",
        "        return \"LPQ (radius=%s)\" % (self.radius)\n",
        "\n",
        "#len(trainX)\n",
        "#\n",
        "#trainX.shape\n",
        "\n",
        "lpq = LPQ(3)\n",
        "\n",
        "#lpq"
      ]
    },
    {
      "cell_type": "markdown",
      "metadata": {
        "id": "buExf_efjheV"
      },
      "source": [
        "# Calculate Testing LPQ Features"
      ]
    },
    {
      "cell_type": "code",
      "execution_count": 33,
      "metadata": {
        "id": "JkeE39v3jheW",
        "colab": {
          "base_uri": "https://localhost:8080/"
        },
        "outputId": "bcd61e31-dd26-4d4b-c4ee-fe72e94e7b74"
      },
      "outputs": [
        {
          "output_type": "stream",
          "name": "stdout",
          "text": [
            "(10920, 256)\n",
            "(3640, 256)\n",
            "10920\n",
            "3640\n"
          ]
        }
      ],
      "source": [
        "dim = (testX.shape[1],testX.shape[1])\n",
        "test_feat =[]\n",
        "for i in range(len(testX)):\n",
        "    X = testX[i]\n",
        "    X = X.reshape(dim)\n",
        "    lpq_feat = lpq(X)\n",
        "    test_feat.append(lpq_feat)\n",
        "\n",
        "train_feat =[]\n",
        "for i in range(len(trainX)):\n",
        "    X = trainX[i]\n",
        "    X = X.reshape(dim)\n",
        "    lpq_feat = lpq(X)\n",
        "    train_feat.append(lpq_feat)\n",
        "\n",
        "train_feat = np.array(train_feat)\n",
        "print(train_feat.shape)\n",
        "test_feat = np.array(test_feat)\n",
        "print(test_feat.shape)\n",
        "numTrain = int(pd.to_numeric(trainX.shape[0]))\n",
        "print(numTrain)\n",
        "numTest = int(pd.to_numeric(testX.shape[0]))\n",
        "print(numTest)"
      ]
    },
    {
      "cell_type": "markdown",
      "metadata": {
        "id": "sgvqx6AAjheW"
      },
      "source": [
        "# Model"
      ]
    },
    {
      "cell_type": "code",
      "execution_count": 34,
      "metadata": {
        "id": "gUXYm18fjheX"
      },
      "outputs": [],
      "source": [
        "model = Sequential()\n",
        "model.add(Conv1D(filters=16, kernel_size=12, input_shape=(256,1)))\n",
        "model.add(BatchNormalization())\n",
        "model.add(MaxPooling1D(pool_size=2))\n",
        "\n",
        "model.add(Conv1D(32, kernel_size=24, activation='relu'))\n",
        "model.add(BatchNormalization())\n",
        "model.add(MaxPooling1D(pool_size=2))\n",
        "\n",
        "model.add(Conv1D(64, kernel_size=12, activation='relu'))\n",
        "model.add(Conv1D(128, kernel_size=12, activation='relu'))\n",
        "model.add(Conv1D(128, kernel_size=12, activation='relu'))\n",
        "\n",
        "model.add(Flatten())\n",
        "model.add(Dense(128, activation='relu'))\n",
        "model.add(Dropout(0.5))\n",
        "model.add(Dense(256,activation='relu'))\n",
        "model.add(Dropout(0.5))\n",
        "model.add(Dense(320,activation='relu'))\n",
        "model.add(Dense(64, activation='relu'))\n",
        "model.add(Dense(2, activation='sigmoid'))"
      ]
    },
    {
      "cell_type": "markdown",
      "metadata": {
        "id": "jMMyuDbGjheX"
      },
      "source": [
        "## Model Compilation"
      ]
    },
    {
      "cell_type": "code",
      "execution_count": 35,
      "metadata": {
        "id": "cO0fbbFzjheY"
      },
      "outputs": [],
      "source": [
        "# reshaping LPQ training and testing features according to input of CNN here 256 is no of features per image\n",
        "train_feat = train_feat.reshape((len(train_feat),256,1))\n",
        "test_feat = test_feat.reshape((len(test_feat),256,1))\n",
        "batch_size = 16\n",
        "epochs = 30\n",
        "sgd = optimizers.Adam()\n",
        "model.compile(loss='binary_crossentropy', optimizer=sgd, metrics=['accuracy'])\n",
        "\n",
        "early_stopping=callbacks.EarlyStopping(monitor='val_loss', min_delta=0, patience=10, verbose=1, mode='min')"
      ]
    },
    {
      "cell_type": "markdown",
      "metadata": {
        "id": "VNv-9m82jheY"
      },
      "source": [
        "## Model Training"
      ]
    },
    {
      "cell_type": "code",
      "execution_count": 36,
      "metadata": {
        "scrolled": false,
        "id": "OrV5GSLYjheZ",
        "colab": {
          "base_uri": "https://localhost:8080/"
        },
        "outputId": "ed0a585f-5693-47b3-87eb-478c1405287a"
      },
      "outputs": [
        {
          "output_type": "stream",
          "name": "stdout",
          "text": [
            "Model: \"sequential\"\n",
            "_________________________________________________________________\n",
            " Layer (type)                Output Shape              Param #   \n",
            "=================================================================\n",
            " conv1d (Conv1D)             (None, 245, 16)           208       \n",
            "                                                                 \n",
            " batch_normalization (Batch  (None, 245, 16)           64        \n",
            " Normalization)                                                  \n",
            "                                                                 \n",
            " max_pooling1d (MaxPooling1  (None, 122, 16)           0         \n",
            " D)                                                              \n",
            "                                                                 \n",
            " conv1d_1 (Conv1D)           (None, 99, 32)            12320     \n",
            "                                                                 \n",
            " batch_normalization_1 (Bat  (None, 99, 32)            128       \n",
            " chNormalization)                                                \n",
            "                                                                 \n",
            " max_pooling1d_1 (MaxPoolin  (None, 49, 32)            0         \n",
            " g1D)                                                            \n",
            "                                                                 \n",
            " conv1d_2 (Conv1D)           (None, 38, 64)            24640     \n",
            "                                                                 \n",
            " conv1d_3 (Conv1D)           (None, 27, 128)           98432     \n",
            "                                                                 \n",
            " conv1d_4 (Conv1D)           (None, 16, 128)           196736    \n",
            "                                                                 \n",
            " flatten (Flatten)           (None, 2048)              0         \n",
            "                                                                 \n",
            " dense (Dense)               (None, 128)               262272    \n",
            "                                                                 \n",
            " dropout (Dropout)           (None, 128)               0         \n",
            "                                                                 \n",
            " dense_1 (Dense)             (None, 256)               33024     \n",
            "                                                                 \n",
            " dropout_1 (Dropout)         (None, 256)               0         \n",
            "                                                                 \n",
            " dense_2 (Dense)             (None, 320)               82240     \n",
            "                                                                 \n",
            " dense_3 (Dense)             (None, 64)                20544     \n",
            "                                                                 \n",
            " dense_4 (Dense)             (None, 2)                 130       \n",
            "                                                                 \n",
            "=================================================================\n",
            "Total params: 730738 (2.79 MB)\n",
            "Trainable params: 730642 (2.79 MB)\n",
            "Non-trainable params: 96 (384.00 Byte)\n",
            "_________________________________________________________________\n",
            "None\n",
            "Epoch 1/30\n",
            "\n",
            "Epoch 1: val_loss improved from inf to 0.50422, saving model to model.h5\n",
            "683/683 - 21s - loss: 0.6082 - accuracy: 0.6509 - val_loss: 0.5042 - val_accuracy: 0.7379 - 21s/epoch - 31ms/step\n",
            "Epoch 2/30\n"
          ]
        },
        {
          "output_type": "stream",
          "name": "stderr",
          "text": [
            "/usr/local/lib/python3.10/dist-packages/keras/src/engine/training.py:3000: UserWarning: You are saving your model as an HDF5 file via `model.save()`. This file format is considered legacy. We recommend using instead the native Keras format, e.g. `model.save('my_model.keras')`.\n",
            "  saving_api.save_model(\n"
          ]
        },
        {
          "output_type": "stream",
          "name": "stdout",
          "text": [
            "\n",
            "Epoch 2: val_loss improved from 0.50422 to 0.43114, saving model to model.h5\n",
            "683/683 - 5s - loss: 0.4528 - accuracy: 0.7807 - val_loss: 0.4311 - val_accuracy: 0.8022 - 5s/epoch - 8ms/step\n",
            "Epoch 3/30\n",
            "\n",
            "Epoch 3: val_loss improved from 0.43114 to 0.29140, saving model to model.h5\n",
            "683/683 - 6s - loss: 0.3281 - accuracy: 0.8431 - val_loss: 0.2914 - val_accuracy: 0.8698 - 6s/epoch - 9ms/step\n",
            "Epoch 4/30\n",
            "\n",
            "Epoch 4: val_loss improved from 0.29140 to 0.20758, saving model to model.h5\n",
            "683/683 - 5s - loss: 0.2545 - accuracy: 0.8807 - val_loss: 0.2076 - val_accuracy: 0.8975 - 5s/epoch - 8ms/step\n",
            "Epoch 5/30\n",
            "\n",
            "Epoch 5: val_loss improved from 0.20758 to 0.19256, saving model to model.h5\n",
            "683/683 - 6s - loss: 0.2073 - accuracy: 0.9117 - val_loss: 0.1926 - val_accuracy: 0.9190 - 6s/epoch - 9ms/step\n",
            "Epoch 6/30\n",
            "\n",
            "Epoch 6: val_loss improved from 0.19256 to 0.15639, saving model to model.h5\n",
            "683/683 - 6s - loss: 0.1817 - accuracy: 0.9249 - val_loss: 0.1564 - val_accuracy: 0.9310 - 6s/epoch - 8ms/step\n",
            "Epoch 7/30\n",
            "\n",
            "Epoch 7: val_loss did not improve from 0.15639\n",
            "683/683 - 5s - loss: 0.1648 - accuracy: 0.9309 - val_loss: 0.1637 - val_accuracy: 0.9294 - 5s/epoch - 7ms/step\n",
            "Epoch 8/30\n",
            "\n",
            "Epoch 8: val_loss did not improve from 0.15639\n",
            "683/683 - 6s - loss: 0.1375 - accuracy: 0.9434 - val_loss: 0.1722 - val_accuracy: 0.9228 - 6s/epoch - 9ms/step\n",
            "Epoch 9/30\n",
            "\n",
            "Epoch 9: val_loss did not improve from 0.15639\n",
            "683/683 - 5s - loss: 0.1318 - accuracy: 0.9457 - val_loss: 0.2186 - val_accuracy: 0.9245 - 5s/epoch - 7ms/step\n",
            "Epoch 10/30\n",
            "\n",
            "Epoch 10: val_loss did not improve from 0.15639\n",
            "683/683 - 6s - loss: 0.1243 - accuracy: 0.9526 - val_loss: 0.1706 - val_accuracy: 0.9297 - 6s/epoch - 9ms/step\n",
            "Epoch 11/30\n",
            "\n",
            "Epoch 11: val_loss improved from 0.15639 to 0.14108, saving model to model.h5\n",
            "683/683 - 5s - loss: 0.1034 - accuracy: 0.9590 - val_loss: 0.1411 - val_accuracy: 0.9365 - 5s/epoch - 8ms/step\n",
            "Epoch 12/30\n",
            "\n",
            "Epoch 12: val_loss did not improve from 0.14108\n",
            "683/683 - 5s - loss: 0.0923 - accuracy: 0.9644 - val_loss: 0.1436 - val_accuracy: 0.9525 - 5s/epoch - 8ms/step\n",
            "Epoch 13/30\n",
            "\n",
            "Epoch 13: val_loss did not improve from 0.14108\n",
            "683/683 - 6s - loss: 0.0796 - accuracy: 0.9698 - val_loss: 0.1514 - val_accuracy: 0.9456 - 6s/epoch - 9ms/step\n",
            "Epoch 14/30\n",
            "\n",
            "Epoch 14: val_loss did not improve from 0.14108\n",
            "683/683 - 5s - loss: 0.0768 - accuracy: 0.9714 - val_loss: 0.1776 - val_accuracy: 0.9382 - 5s/epoch - 7ms/step\n",
            "Epoch 15/30\n",
            "\n",
            "Epoch 15: val_loss improved from 0.14108 to 0.13574, saving model to model.h5\n",
            "683/683 - 6s - loss: 0.0926 - accuracy: 0.9639 - val_loss: 0.1357 - val_accuracy: 0.9593 - 6s/epoch - 9ms/step\n",
            "Epoch 16/30\n",
            "\n",
            "Epoch 16: val_loss did not improve from 0.13574\n",
            "683/683 - 5s - loss: 0.1024 - accuracy: 0.9647 - val_loss: 0.2638 - val_accuracy: 0.9283 - 5s/epoch - 8ms/step\n",
            "Epoch 17/30\n",
            "\n",
            "Epoch 17: val_loss improved from 0.13574 to 0.10771, saving model to model.h5\n",
            "683/683 - 6s - loss: 0.0736 - accuracy: 0.9735 - val_loss: 0.1077 - val_accuracy: 0.9629 - 6s/epoch - 9ms/step\n",
            "Epoch 18/30\n",
            "\n",
            "Epoch 18: val_loss did not improve from 0.10771\n",
            "683/683 - 5s - loss: 0.0583 - accuracy: 0.9781 - val_loss: 0.1390 - val_accuracy: 0.9538 - 5s/epoch - 7ms/step\n",
            "Epoch 19/30\n",
            "\n",
            "Epoch 19: val_loss did not improve from 0.10771\n",
            "683/683 - 5s - loss: 0.0593 - accuracy: 0.9794 - val_loss: 0.1568 - val_accuracy: 0.9593 - 5s/epoch - 7ms/step\n",
            "Epoch 20/30\n",
            "\n",
            "Epoch 20: val_loss did not improve from 0.10771\n",
            "683/683 - 6s - loss: 0.0711 - accuracy: 0.9772 - val_loss: 0.2112 - val_accuracy: 0.9330 - 6s/epoch - 9ms/step\n",
            "Epoch 21/30\n",
            "\n",
            "Epoch 21: val_loss did not improve from 0.10771\n",
            "683/683 - 5s - loss: 0.0636 - accuracy: 0.9790 - val_loss: 0.1618 - val_accuracy: 0.9563 - 5s/epoch - 7ms/step\n",
            "Epoch 22/30\n",
            "\n",
            "Epoch 22: val_loss did not improve from 0.10771\n",
            "683/683 - 6s - loss: 0.0634 - accuracy: 0.9781 - val_loss: 0.1147 - val_accuracy: 0.9615 - 6s/epoch - 9ms/step\n",
            "Epoch 23/30\n",
            "\n",
            "Epoch 23: val_loss did not improve from 0.10771\n",
            "683/683 - 5s - loss: 0.0498 - accuracy: 0.9829 - val_loss: 0.1267 - val_accuracy: 0.9657 - 5s/epoch - 8ms/step\n",
            "Epoch 24/30\n",
            "\n",
            "Epoch 24: val_loss did not improve from 0.10771\n",
            "683/683 - 8s - loss: 0.0968 - accuracy: 0.9693 - val_loss: 0.2056 - val_accuracy: 0.9168 - 8s/epoch - 11ms/step\n",
            "Epoch 25/30\n",
            "\n",
            "Epoch 25: val_loss did not improve from 0.10771\n",
            "683/683 - 8s - loss: 0.0897 - accuracy: 0.9676 - val_loss: 0.1793 - val_accuracy: 0.9505 - 8s/epoch - 11ms/step\n",
            "Epoch 26/30\n",
            "\n",
            "Epoch 26: val_loss did not improve from 0.10771\n",
            "683/683 - 6s - loss: 0.0568 - accuracy: 0.9827 - val_loss: 0.1416 - val_accuracy: 0.9629 - 6s/epoch - 9ms/step\n",
            "Epoch 27/30\n",
            "\n",
            "Epoch 27: val_loss did not improve from 0.10771\n",
            "683/683 - 6s - loss: 0.0327 - accuracy: 0.9889 - val_loss: 0.1651 - val_accuracy: 0.9533 - 6s/epoch - 9ms/step\n",
            "Epoch 27: early stopping\n"
          ]
        }
      ],
      "source": [
        "# file path where the model weights will be stored\n",
        "filepath=\"model.h5\"\n",
        "\n",
        "checkpoint = callbacks.ModelCheckpoint(filepath, monitor='val_loss', verbose=1, save_best_only=True, mode='min')\n",
        "\n",
        "callbacks_list = [early_stopping,checkpoint]\n",
        "\n",
        "print(model.summary())\n",
        "\n",
        "history = model.fit(train_feat, trainY,shuffle=True,\n",
        "          batch_size=batch_size,\n",
        "          epochs=epochs,\n",
        "          verbose=2,\n",
        "          validation_data=(test_feat, testY),callbacks=callbacks_list)"
      ]
    },
    {
      "cell_type": "markdown",
      "metadata": {
        "id": "JXxRpq6njhea"
      },
      "source": [
        "## Loss and Accuracy Curve of Model"
      ]
    },
    {
      "cell_type": "code",
      "execution_count": 37,
      "metadata": {
        "id": "zHaO6YX4jhec",
        "colab": {
          "base_uri": "https://localhost:8080/",
          "height": 489
        },
        "outputId": "d0acd9b6-5475-4bb8-c28d-71f272a196ce"
      },
      "outputs": [
        {
          "output_type": "stream",
          "name": "stdout",
          "text": [
            "dict_keys(['loss', 'accuracy', 'val_loss', 'val_accuracy'])\n"
          ]
        },
        {
          "output_type": "display_data",
          "data": {
            "text/plain": [
              "<Figure size 640x480 with 1 Axes>"
            ],
            "image/png": "[encoded data removed]"
          },
          "metadata": {}
        }
      ],
      "source": [
        "# list all data in history\n",
        "print(history.history.keys())\n",
        "# summarize history for accuracy\n",
        "plt.plot(history.history['accuracy'])\n",
        "plt.plot(history.history['val_accuracy'])\n",
        "plt.title('model accuracy')\n",
        "plt.ylabel('accuracy')\n",
        "plt.xlabel('epoch')\n",
        "plt.legend(['train', 'test'], loc='upper left')\n",
        "plt.show()"
      ]
    },
    {
      "cell_type": "code",
      "execution_count": 38,
      "metadata": {
        "id": "ZtmlZBB0jhee",
        "colab": {
          "base_uri": "https://localhost:8080/",
          "height": 472
        },
        "outputId": "f4a9b893-da2d-4031-d15f-a655d4037175"
      },
      "outputs": [
        {
          "output_type": "display_data",
          "data": {
            "text/plain": [
              "<Figure size 640x480 with 1 Axes>"
            ],
            "image/png": "[encoded data removed]"
          },
          "metadata": {}
        }
      ],
      "source": [
        "# summarize history for loss\n",
        "plt.plot(history.history['loss'])\n",
        "plt.plot(history.history['val_loss'])\n",
        "plt.title('model loss')\n",
        "plt.ylabel('loss')\n",
        "plt.xlabel('epoch')\n",
        "plt.legend(['train', 'test'], loc='upper left')\n",
        "plt.show()"
      ]
    },
    {
      "cell_type": "markdown",
      "metadata": {
        "id": "bMpvDzvDjhef"
      },
      "source": [
        "## Load Save Model"
      ]
    },
    {
      "cell_type": "code",
      "execution_count": 39,
      "metadata": {
        "id": "e9sjvP-Yjhef",
        "colab": {
          "base_uri": "https://localhost:8080/"
        },
        "outputId": "e02783b5-22f3-4260-e0c1-940e3fc30199"
      },
      "outputs": [
        {
          "output_type": "stream",
          "name": "stdout",
          "text": [
            "Test loss: 0.10770899802446365\n",
            "Test accuracy: 0.9629120826721191\n"
          ]
        }
      ],
      "source": [
        "from keras.models import load_model\n",
        "model = load_model('model.h5')\n",
        "\n",
        "score = model.evaluate(test_feat, testY, verbose=0)\n",
        "print('Test loss:', score[0])\n",
        "print('Test accuracy:', score[1])"
      ]
    },
    {
      "cell_type": "code",
      "source": [],
      "metadata": {
        "id": "kSPgQOnOIpdq"
      },
      "execution_count": null,
      "outputs": []
    }
  ],
  "metadata": {
    "kernelspec": {
      "display_name": "Python 3",
      "name": "python3"
    },
    "language_info": {
      "codemirror_mode": {
        "name": "ipython",
        "version": 3
      },
      "file_extension": ".py",
      "mimetype": "text/x-python",
      "name": "python",
      "nbconvert_exporter": "python",
      "pygments_lexer": "ipython3",
      "version": "3.10.2"
    },
    "colab": {
      "provenance": [],
      "gpuType": "T4"
    },
    "accelerator": "GPU"
  },
  "nbformat": 4,
  "nbformat_minor": 0
}